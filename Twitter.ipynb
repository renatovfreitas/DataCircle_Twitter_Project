{
 "cells": [
  {
   "cell_type": "code",
   "execution_count": 134,
   "metadata": {},
   "outputs": [],
   "source": [
    "import pandas as pd\n",
    "import os\n",
    "import matplotlib.pyplot as plt\n",
    "import matplotlib.ticker as mtick\n",
    "# import plotly.express as px\n",
    "# import plotly.graph_objects as go"
   ]
  },
  {
   "cell_type": "code",
   "execution_count": 135,
   "metadata": {
    "scrolled": false
   },
   "outputs": [
    {
     "name": "stdout",
     "output_type": "stream",
     "text": [
      "The file exists: /Users/pcfic/Documents/Circle/hashtag_donaldtrump.csv\n"
     ]
    }
   ],
   "source": [
    "file_path = '/Users/pcfic/Documents/Circle/hashtag_donaldtrump.csv'\n",
    "if os.path.isfile(file_path):\n",
    "    print(f\"The file exists: {file_path}\")\n",
    "else:\n",
    "    print(f\"The file does not exist: {file_path}\")"
   ]
  },
  {
   "cell_type": "code",
   "execution_count": 136,
   "metadata": {},
   "outputs": [],
   "source": [
    "dfb = pd.read_csv('/Users/pcfic/Documents/Circle/hashtag_joebiden.csv', lineterminator='\\n')"
   ]
  },
  {
   "cell_type": "code",
   "execution_count": 137,
   "metadata": {},
   "outputs": [],
   "source": [
    "dft = pd.read_csv('/Users/pcfic/Documents/Circle/hashtag_donaldtrump.csv', lineterminator='\\n')"
   ]
  },
  {
   "cell_type": "code",
   "execution_count": 138,
   "metadata": {
    "scrolled": true
   },
   "outputs": [
    {
     "data": {
      "text/html": [
       "<div>\n",
       "<style scoped>\n",
       "    .dataframe tbody tr th:only-of-type {\n",
       "        vertical-align: middle;\n",
       "    }\n",
       "\n",
       "    .dataframe tbody tr th {\n",
       "        vertical-align: top;\n",
       "    }\n",
       "\n",
       "    .dataframe thead th {\n",
       "        text-align: right;\n",
       "    }\n",
       "</style>\n",
       "<table border=\"1\" class=\"dataframe\">\n",
       "  <thead>\n",
       "    <tr style=\"text-align: right;\">\n",
       "      <th></th>\n",
       "      <th>created_at</th>\n",
       "      <th>tweet_id</th>\n",
       "      <th>tweet</th>\n",
       "      <th>likes</th>\n",
       "      <th>retweet_count</th>\n",
       "      <th>source</th>\n",
       "      <th>user_id</th>\n",
       "      <th>user_name</th>\n",
       "      <th>user_screen_name</th>\n",
       "      <th>user_description</th>\n",
       "      <th>...</th>\n",
       "      <th>user_followers_count</th>\n",
       "      <th>user_location</th>\n",
       "      <th>lat</th>\n",
       "      <th>long</th>\n",
       "      <th>city</th>\n",
       "      <th>country</th>\n",
       "      <th>continent</th>\n",
       "      <th>state</th>\n",
       "      <th>state_code</th>\n",
       "      <th>collected_at</th>\n",
       "    </tr>\n",
       "  </thead>\n",
       "  <tbody>\n",
       "    <tr>\n",
       "      <th>0</th>\n",
       "      <td>2020-10-15 00:00:01</td>\n",
       "      <td>1.316529e+18</td>\n",
       "      <td>#Elecciones2020 | En #Florida: #JoeBiden dice ...</td>\n",
       "      <td>0.0</td>\n",
       "      <td>0.0</td>\n",
       "      <td>TweetDeck</td>\n",
       "      <td>3.606665e+08</td>\n",
       "      <td>El Sol Latino News</td>\n",
       "      <td>elsollatinonews</td>\n",
       "      <td>🌐 Noticias de interés para latinos de la costa...</td>\n",
       "      <td>...</td>\n",
       "      <td>1860.0</td>\n",
       "      <td>Philadelphia, PA / Miami, FL</td>\n",
       "      <td>25.774270</td>\n",
       "      <td>-80.193660</td>\n",
       "      <td>NaN</td>\n",
       "      <td>United States of America</td>\n",
       "      <td>North America</td>\n",
       "      <td>Florida</td>\n",
       "      <td>FL</td>\n",
       "      <td>2020-10-21 00:00:00</td>\n",
       "    </tr>\n",
       "    <tr>\n",
       "      <th>1</th>\n",
       "      <td>2020-10-15 00:00:18</td>\n",
       "      <td>1.316529e+18</td>\n",
       "      <td>#HunterBiden #HunterBidenEmails #JoeBiden #Joe...</td>\n",
       "      <td>0.0</td>\n",
       "      <td>0.0</td>\n",
       "      <td>Twitter for iPad</td>\n",
       "      <td>8.099044e+08</td>\n",
       "      <td>Cheri A. 🇺🇸</td>\n",
       "      <td>Biloximeemaw</td>\n",
       "      <td>Locked and loaded Meemaw. Love God, my family ...</td>\n",
       "      <td>...</td>\n",
       "      <td>6628.0</td>\n",
       "      <td>NaN</td>\n",
       "      <td>NaN</td>\n",
       "      <td>NaN</td>\n",
       "      <td>NaN</td>\n",
       "      <td>NaN</td>\n",
       "      <td>NaN</td>\n",
       "      <td>NaN</td>\n",
       "      <td>NaN</td>\n",
       "      <td>2020-10-21 00:00:00.517827283</td>\n",
       "    </tr>\n",
       "    <tr>\n",
       "      <th>2</th>\n",
       "      <td>2020-10-15 00:00:20</td>\n",
       "      <td>1.316529e+18</td>\n",
       "      <td>@IslandGirlPRV @BradBeauregardJ @MeidasTouch T...</td>\n",
       "      <td>0.0</td>\n",
       "      <td>0.0</td>\n",
       "      <td>Twitter Web App</td>\n",
       "      <td>3.494182e+09</td>\n",
       "      <td>Flag Waver</td>\n",
       "      <td>Flag_Wavers</td>\n",
       "      <td>NaN</td>\n",
       "      <td>...</td>\n",
       "      <td>1536.0</td>\n",
       "      <td>Golden Valley Arizona</td>\n",
       "      <td>46.304036</td>\n",
       "      <td>-109.171431</td>\n",
       "      <td>NaN</td>\n",
       "      <td>United States of America</td>\n",
       "      <td>North America</td>\n",
       "      <td>Montana</td>\n",
       "      <td>MT</td>\n",
       "      <td>2020-10-21 00:00:01.035654566</td>\n",
       "    </tr>\n",
       "    <tr>\n",
       "      <th>3</th>\n",
       "      <td>2020-10-15 00:00:21</td>\n",
       "      <td>1.316529e+18</td>\n",
       "      <td>@chrislongview Watching and setting dvr. Let’s...</td>\n",
       "      <td>0.0</td>\n",
       "      <td>0.0</td>\n",
       "      <td>Twitter for iPhone</td>\n",
       "      <td>8.242596e+17</td>\n",
       "      <td>Michelle Ferg</td>\n",
       "      <td>MichelleFerg4</td>\n",
       "      <td>NaN</td>\n",
       "      <td>...</td>\n",
       "      <td>27.0</td>\n",
       "      <td>NaN</td>\n",
       "      <td>NaN</td>\n",
       "      <td>NaN</td>\n",
       "      <td>NaN</td>\n",
       "      <td>NaN</td>\n",
       "      <td>NaN</td>\n",
       "      <td>NaN</td>\n",
       "      <td>NaN</td>\n",
       "      <td>2020-10-21 00:00:01.553481849</td>\n",
       "    </tr>\n",
       "    <tr>\n",
       "      <th>4</th>\n",
       "      <td>2020-10-15 00:00:22</td>\n",
       "      <td>1.316529e+18</td>\n",
       "      <td>#censorship #HunterBiden #Biden #BidenEmails #...</td>\n",
       "      <td>1.0</td>\n",
       "      <td>0.0</td>\n",
       "      <td>Twitter Web App</td>\n",
       "      <td>1.032807e+18</td>\n",
       "      <td>the Gold State</td>\n",
       "      <td>theegoldstate</td>\n",
       "      <td>A Silicon Valley #independent #News #Media #St...</td>\n",
       "      <td>...</td>\n",
       "      <td>390.0</td>\n",
       "      <td>California, USA</td>\n",
       "      <td>36.701463</td>\n",
       "      <td>-118.755997</td>\n",
       "      <td>NaN</td>\n",
       "      <td>United States of America</td>\n",
       "      <td>North America</td>\n",
       "      <td>California</td>\n",
       "      <td>CA</td>\n",
       "      <td>2020-10-21 00:00:02.071309132</td>\n",
       "    </tr>\n",
       "  </tbody>\n",
       "</table>\n",
       "<p>5 rows × 21 columns</p>\n",
       "</div>"
      ],
      "text/plain": [
       "            created_at      tweet_id  \\\n",
       "0  2020-10-15 00:00:01  1.316529e+18   \n",
       "1  2020-10-15 00:00:18  1.316529e+18   \n",
       "2  2020-10-15 00:00:20  1.316529e+18   \n",
       "3  2020-10-15 00:00:21  1.316529e+18   \n",
       "4  2020-10-15 00:00:22  1.316529e+18   \n",
       "\n",
       "                                               tweet  likes  retweet_count  \\\n",
       "0  #Elecciones2020 | En #Florida: #JoeBiden dice ...    0.0            0.0   \n",
       "1  #HunterBiden #HunterBidenEmails #JoeBiden #Joe...    0.0            0.0   \n",
       "2  @IslandGirlPRV @BradBeauregardJ @MeidasTouch T...    0.0            0.0   \n",
       "3  @chrislongview Watching and setting dvr. Let’s...    0.0            0.0   \n",
       "4  #censorship #HunterBiden #Biden #BidenEmails #...    1.0            0.0   \n",
       "\n",
       "               source       user_id           user_name user_screen_name  \\\n",
       "0           TweetDeck  3.606665e+08  El Sol Latino News  elsollatinonews   \n",
       "1    Twitter for iPad  8.099044e+08         Cheri A. 🇺🇸     Biloximeemaw   \n",
       "2     Twitter Web App  3.494182e+09          Flag Waver      Flag_Wavers   \n",
       "3  Twitter for iPhone  8.242596e+17       Michelle Ferg    MichelleFerg4   \n",
       "4     Twitter Web App  1.032807e+18      the Gold State    theegoldstate   \n",
       "\n",
       "                                    user_description  ...  \\\n",
       "0  🌐 Noticias de interés para latinos de la costa...  ...   \n",
       "1  Locked and loaded Meemaw. Love God, my family ...  ...   \n",
       "2                                                NaN  ...   \n",
       "3                                                NaN  ...   \n",
       "4  A Silicon Valley #independent #News #Media #St...  ...   \n",
       "\n",
       "  user_followers_count                 user_location        lat        long  \\\n",
       "0               1860.0  Philadelphia, PA / Miami, FL  25.774270  -80.193660   \n",
       "1               6628.0                           NaN        NaN         NaN   \n",
       "2               1536.0         Golden Valley Arizona  46.304036 -109.171431   \n",
       "3                 27.0                           NaN        NaN         NaN   \n",
       "4                390.0               California, USA  36.701463 -118.755997   \n",
       "\n",
       "   city                   country      continent       state state_code  \\\n",
       "0   NaN  United States of America  North America     Florida         FL   \n",
       "1   NaN                       NaN            NaN         NaN        NaN   \n",
       "2   NaN  United States of America  North America     Montana         MT   \n",
       "3   NaN                       NaN            NaN         NaN        NaN   \n",
       "4   NaN  United States of America  North America  California         CA   \n",
       "\n",
       "                    collected_at  \n",
       "0            2020-10-21 00:00:00  \n",
       "1  2020-10-21 00:00:00.517827283  \n",
       "2  2020-10-21 00:00:01.035654566  \n",
       "3  2020-10-21 00:00:01.553481849  \n",
       "4  2020-10-21 00:00:02.071309132  \n",
       "\n",
       "[5 rows x 21 columns]"
      ]
     },
     "execution_count": 138,
     "metadata": {},
     "output_type": "execute_result"
    }
   ],
   "source": [
    "dfb.head()"
   ]
  },
  {
   "cell_type": "code",
   "execution_count": 185,
   "metadata": {},
   "outputs": [
    {
     "data": {
      "text/html": [
       "<div>\n",
       "<style scoped>\n",
       "    .dataframe tbody tr th:only-of-type {\n",
       "        vertical-align: middle;\n",
       "    }\n",
       "\n",
       "    .dataframe tbody tr th {\n",
       "        vertical-align: top;\n",
       "    }\n",
       "\n",
       "    .dataframe thead th {\n",
       "        text-align: right;\n",
       "    }\n",
       "</style>\n",
       "<table border=\"1\" class=\"dataframe\">\n",
       "  <thead>\n",
       "    <tr style=\"text-align: right;\">\n",
       "      <th></th>\n",
       "      <th>created_at</th>\n",
       "      <th>tweet_id</th>\n",
       "      <th>tweet</th>\n",
       "      <th>likes</th>\n",
       "      <th>retweet_count</th>\n",
       "      <th>source</th>\n",
       "      <th>user_id</th>\n",
       "      <th>user_name</th>\n",
       "      <th>user_screen_name</th>\n",
       "      <th>user_description</th>\n",
       "      <th>...</th>\n",
       "      <th>user_location</th>\n",
       "      <th>lat</th>\n",
       "      <th>long</th>\n",
       "      <th>city</th>\n",
       "      <th>country</th>\n",
       "      <th>continent</th>\n",
       "      <th>state</th>\n",
       "      <th>state_code</th>\n",
       "      <th>collected_at</th>\n",
       "      <th>candidate</th>\n",
       "    </tr>\n",
       "  </thead>\n",
       "  <tbody>\n",
       "    <tr>\n",
       "      <th>0</th>\n",
       "      <td>2020-10-15 00:00:01</td>\n",
       "      <td>1.316529e+18</td>\n",
       "      <td>#Elecciones2020 | En #Florida: #JoeBiden dice ...</td>\n",
       "      <td>0.0</td>\n",
       "      <td>0.0</td>\n",
       "      <td>TweetDeck</td>\n",
       "      <td>3.606665e+08</td>\n",
       "      <td>El Sol Latino News</td>\n",
       "      <td>elsollatinonews</td>\n",
       "      <td>🌐 Noticias de interés para latinos de la costa...</td>\n",
       "      <td>...</td>\n",
       "      <td>Philadelphia, PA / Miami, FL</td>\n",
       "      <td>25.774270</td>\n",
       "      <td>-80.193660</td>\n",
       "      <td>NaN</td>\n",
       "      <td>United States of America</td>\n",
       "      <td>North America</td>\n",
       "      <td>Florida</td>\n",
       "      <td>FL</td>\n",
       "      <td>2020-10-21 00:00:00</td>\n",
       "      <td>biden</td>\n",
       "    </tr>\n",
       "    <tr>\n",
       "      <th>1</th>\n",
       "      <td>2020-10-15 00:00:18</td>\n",
       "      <td>1.316529e+18</td>\n",
       "      <td>#HunterBiden #HunterBidenEmails #JoeBiden #Joe...</td>\n",
       "      <td>0.0</td>\n",
       "      <td>0.0</td>\n",
       "      <td>Twitter for iPad</td>\n",
       "      <td>8.099044e+08</td>\n",
       "      <td>Cheri A. 🇺🇸</td>\n",
       "      <td>Biloximeemaw</td>\n",
       "      <td>Locked and loaded Meemaw. Love God, my family ...</td>\n",
       "      <td>...</td>\n",
       "      <td>NaN</td>\n",
       "      <td>NaN</td>\n",
       "      <td>NaN</td>\n",
       "      <td>NaN</td>\n",
       "      <td>NaN</td>\n",
       "      <td>NaN</td>\n",
       "      <td>NaN</td>\n",
       "      <td>NaN</td>\n",
       "      <td>2020-10-21 00:00:00.517827283</td>\n",
       "      <td>biden</td>\n",
       "    </tr>\n",
       "    <tr>\n",
       "      <th>2</th>\n",
       "      <td>2020-10-15 00:00:20</td>\n",
       "      <td>1.316529e+18</td>\n",
       "      <td>@IslandGirlPRV @BradBeauregardJ @MeidasTouch T...</td>\n",
       "      <td>0.0</td>\n",
       "      <td>0.0</td>\n",
       "      <td>Twitter Web App</td>\n",
       "      <td>3.494182e+09</td>\n",
       "      <td>Flag Waver</td>\n",
       "      <td>Flag_Wavers</td>\n",
       "      <td>NaN</td>\n",
       "      <td>...</td>\n",
       "      <td>Golden Valley Arizona</td>\n",
       "      <td>46.304036</td>\n",
       "      <td>-109.171431</td>\n",
       "      <td>NaN</td>\n",
       "      <td>United States of America</td>\n",
       "      <td>North America</td>\n",
       "      <td>Montana</td>\n",
       "      <td>MT</td>\n",
       "      <td>2020-10-21 00:00:01.035654566</td>\n",
       "      <td>biden</td>\n",
       "    </tr>\n",
       "    <tr>\n",
       "      <th>3</th>\n",
       "      <td>2020-10-15 00:00:21</td>\n",
       "      <td>1.316529e+18</td>\n",
       "      <td>@chrislongview Watching and setting dvr. Let’s...</td>\n",
       "      <td>0.0</td>\n",
       "      <td>0.0</td>\n",
       "      <td>Twitter for iPhone</td>\n",
       "      <td>8.242596e+17</td>\n",
       "      <td>Michelle Ferg</td>\n",
       "      <td>MichelleFerg4</td>\n",
       "      <td>NaN</td>\n",
       "      <td>...</td>\n",
       "      <td>NaN</td>\n",
       "      <td>NaN</td>\n",
       "      <td>NaN</td>\n",
       "      <td>NaN</td>\n",
       "      <td>NaN</td>\n",
       "      <td>NaN</td>\n",
       "      <td>NaN</td>\n",
       "      <td>NaN</td>\n",
       "      <td>2020-10-21 00:00:01.553481849</td>\n",
       "      <td>biden</td>\n",
       "    </tr>\n",
       "    <tr>\n",
       "      <th>4</th>\n",
       "      <td>2020-10-15 00:00:22</td>\n",
       "      <td>1.316529e+18</td>\n",
       "      <td>#censorship #HunterBiden #Biden #BidenEmails #...</td>\n",
       "      <td>1.0</td>\n",
       "      <td>0.0</td>\n",
       "      <td>Twitter Web App</td>\n",
       "      <td>1.032807e+18</td>\n",
       "      <td>the Gold State</td>\n",
       "      <td>theegoldstate</td>\n",
       "      <td>A Silicon Valley #independent #News #Media #St...</td>\n",
       "      <td>...</td>\n",
       "      <td>California, USA</td>\n",
       "      <td>36.701463</td>\n",
       "      <td>-118.755997</td>\n",
       "      <td>NaN</td>\n",
       "      <td>United States of America</td>\n",
       "      <td>North America</td>\n",
       "      <td>California</td>\n",
       "      <td>CA</td>\n",
       "      <td>2020-10-21 00:00:02.071309132</td>\n",
       "      <td>biden</td>\n",
       "    </tr>\n",
       "  </tbody>\n",
       "</table>\n",
       "<p>5 rows × 22 columns</p>\n",
       "</div>"
      ],
      "text/plain": [
       "            created_at      tweet_id  \\\n",
       "0  2020-10-15 00:00:01  1.316529e+18   \n",
       "1  2020-10-15 00:00:18  1.316529e+18   \n",
       "2  2020-10-15 00:00:20  1.316529e+18   \n",
       "3  2020-10-15 00:00:21  1.316529e+18   \n",
       "4  2020-10-15 00:00:22  1.316529e+18   \n",
       "\n",
       "                                               tweet  likes  retweet_count  \\\n",
       "0  #Elecciones2020 | En #Florida: #JoeBiden dice ...    0.0            0.0   \n",
       "1  #HunterBiden #HunterBidenEmails #JoeBiden #Joe...    0.0            0.0   \n",
       "2  @IslandGirlPRV @BradBeauregardJ @MeidasTouch T...    0.0            0.0   \n",
       "3  @chrislongview Watching and setting dvr. Let’s...    0.0            0.0   \n",
       "4  #censorship #HunterBiden #Biden #BidenEmails #...    1.0            0.0   \n",
       "\n",
       "               source       user_id           user_name user_screen_name  \\\n",
       "0           TweetDeck  3.606665e+08  El Sol Latino News  elsollatinonews   \n",
       "1    Twitter for iPad  8.099044e+08         Cheri A. 🇺🇸     Biloximeemaw   \n",
       "2     Twitter Web App  3.494182e+09          Flag Waver      Flag_Wavers   \n",
       "3  Twitter for iPhone  8.242596e+17       Michelle Ferg    MichelleFerg4   \n",
       "4     Twitter Web App  1.032807e+18      the Gold State    theegoldstate   \n",
       "\n",
       "                                    user_description  ...  \\\n",
       "0  🌐 Noticias de interés para latinos de la costa...  ...   \n",
       "1  Locked and loaded Meemaw. Love God, my family ...  ...   \n",
       "2                                                NaN  ...   \n",
       "3                                                NaN  ...   \n",
       "4  A Silicon Valley #independent #News #Media #St...  ...   \n",
       "\n",
       "                  user_location        lat        long  city  \\\n",
       "0  Philadelphia, PA / Miami, FL  25.774270  -80.193660   NaN   \n",
       "1                           NaN        NaN         NaN   NaN   \n",
       "2         Golden Valley Arizona  46.304036 -109.171431   NaN   \n",
       "3                           NaN        NaN         NaN   NaN   \n",
       "4               California, USA  36.701463 -118.755997   NaN   \n",
       "\n",
       "                    country      continent       state state_code  \\\n",
       "0  United States of America  North America     Florida         FL   \n",
       "1                       NaN            NaN         NaN        NaN   \n",
       "2  United States of America  North America     Montana         MT   \n",
       "3                       NaN            NaN         NaN        NaN   \n",
       "4  United States of America  North America  California         CA   \n",
       "\n",
       "                    collected_at candidate  \n",
       "0            2020-10-21 00:00:00     biden  \n",
       "1  2020-10-21 00:00:00.517827283     biden  \n",
       "2  2020-10-21 00:00:01.035654566     biden  \n",
       "3  2020-10-21 00:00:01.553481849     biden  \n",
       "4  2020-10-21 00:00:02.071309132     biden  \n",
       "\n",
       "[5 rows x 22 columns]"
      ]
     },
     "execution_count": 185,
     "metadata": {},
     "output_type": "execute_result"
    }
   ],
   "source": [
    "# add column to identify what dataset belongs each tweet\n",
    "dfb.loc[:, 'candidate'] = 'biden'\n",
    "dft.loc[:, 'candidate'] = 'trump'\n",
    "df = pd.concat([dfb, dft])\n",
    "# sort by creating time\n",
    "dfb.sort_values(by= 'created_at')\n",
    "dft.sort_values(by= 'created_at')\n",
    "df.head()"
   ]
  },
  {
   "cell_type": "code",
   "execution_count": 140,
   "metadata": {},
   "outputs": [
    {
     "data": {
      "text/plain": [
       "(1747805, 22)"
      ]
     },
     "execution_count": 140,
     "metadata": {},
     "output_type": "execute_result"
    }
   ],
   "source": [
    "df.shape"
   ]
  },
  {
   "cell_type": "code",
   "execution_count": 141,
   "metadata": {},
   "outputs": [
    {
     "name": "stdout",
     "output_type": "stream",
     "text": [
      "['created_at', 'tweet_id', 'tweet', 'likes', 'retweet_count', 'source', 'user_id', 'user_name', 'user_screen_name', 'user_description', 'user_join_date', 'user_followers_count', 'user_location', 'lat', 'long', 'city', 'country', 'continent', 'state', 'state_code', 'collected_at', 'candidate']\n"
     ]
    }
   ],
   "source": [
    "print(df.columns.tolist())"
   ]
  },
  {
   "cell_type": "code",
   "execution_count": 142,
   "metadata": {},
   "outputs": [],
   "source": [
    "# Convert columns to numeric\n",
    "columns_to_numeric = ['likes', 'user_followers_count', 'lat', 'long']\n",
    "df[columns_to_numeric] = df[columns_to_numeric].apply(pd.to_numeric, errors='coerce')"
   ]
  },
  {
   "cell_type": "code",
   "execution_count": 143,
   "metadata": {},
   "outputs": [],
   "source": [
    "# Convert columns to datetime\n",
    "columns_to_datetime = ['created_at', 'user_join_date', 'collected_at']\n",
    "df[columns_to_datetime] = df[columns_to_datetime].apply(pd.to_datetime, errors='coerce')"
   ]
  },
  {
   "cell_type": "code",
   "execution_count": 144,
   "metadata": {},
   "outputs": [
    {
     "data": {
      "text/plain": [
       "created_at              datetime64[ns]\n",
       "tweet_id                       float64\n",
       "tweet                           object\n",
       "likes                          float64\n",
       "retweet_count                  float64\n",
       "source                          object\n",
       "user_id                        float64\n",
       "user_name                       object\n",
       "user_screen_name                object\n",
       "user_description                object\n",
       "user_join_date          datetime64[ns]\n",
       "user_followers_count           float64\n",
       "user_location                   object\n",
       "lat                            float64\n",
       "long                           float64\n",
       "city                            object\n",
       "country                         object\n",
       "continent                       object\n",
       "state                           object\n",
       "state_code                      object\n",
       "collected_at            datetime64[ns]\n",
       "candidate                       object\n",
       "dtype: object"
      ]
     },
     "execution_count": 144,
     "metadata": {},
     "output_type": "execute_result"
    }
   ],
   "source": [
    "df.dtypes"
   ]
  },
  {
   "cell_type": "code",
   "execution_count": 145,
   "metadata": {},
   "outputs": [
    {
     "data": {
      "text/plain": [
       "(1522909, 22)"
      ]
     },
     "execution_count": 145,
     "metadata": {},
     "output_type": "execute_result"
    }
   ],
   "source": [
    "# Remove duplicates based on unique tweet IDs\n",
    "df.drop_duplicates(subset = 'tweet_id', inplace= True)\n",
    "df.shape"
   ]
  },
  {
   "cell_type": "code",
   "execution_count": 146,
   "metadata": {},
   "outputs": [
    {
     "data": {
      "text/plain": [
       "(1522909, 22)"
      ]
     },
     "execution_count": 146,
     "metadata": {},
     "output_type": "execute_result"
    }
   ],
   "source": [
    "# Remove tweets without text and not a retweet\n",
    "# df.dropna(subset=['user_description'], inplace=True)\n",
    "df = df[df['retweet_count'].notna() | df['user_description'].notna()]\n",
    "df.shape"
   ]
  },
  {
   "cell_type": "code",
   "execution_count": 147,
   "metadata": {},
   "outputs": [
    {
     "data": {
      "image/png": "[encoded data removed]",
      "text/plain": [
       "<Figure size 432x288 with 1 Axes>"
      ]
     },
     "metadata": {
      "needs_background": "light"
     },
     "output_type": "display_data"
    }
   ],
   "source": [
    "# Group the data by 'candidate' and count\n",
    "tweets_count = df.groupby('candidate')['tweet'].count().reset_index()\n",
    "#fig = px.bar(tweets_count, x='candidate', y='tweet', color='candidate')\n",
    "plt.bar(tweets_count['candidate'], tweets_count['tweet'], color=['red', 'blue'])\n",
    "plt.xlabel('Candidate')\n",
    "plt.ylabel('Number of Tweets')\n",
    "plt.title('Number of Tweets by Candidate')\n",
    "plt.show()"
   ]
  },
  {
   "cell_type": "code",
   "execution_count": 148,
   "metadata": {
    "scrolled": true
   },
   "outputs": [
    {
     "data": {
      "image/png": "[encoded data removed]",
      "text/plain": [
       "<Figure size 432x288 with 1 Axes>"
      ]
     },
     "metadata": {
      "needs_background": "light"
     },
     "output_type": "display_data"
    }
   ],
   "source": [
    "likes_comparision = df.groupby('candidate')['likes'].sum().reset_index()\n",
    "plt.bar(likes_comparision['candidate'], likes_comparision['likes'], color=['red', 'blue'])\n",
    "plt.xlabel('Candidate')\n",
    "plt.ylabel('Total Likes')\n",
    "plt.gca().yaxis.set_major_formatter(mtick.FuncFormatter(lambda x, _: f'{x*1e-6:.0f}M'))\n",
    "plt.title('Number of Likes per Candidate')\n",
    "plt.show()"
   ]
  },
  {
   "cell_type": "code",
   "execution_count": 205,
   "metadata": {},
   "outputs": [],
   "source": [
    "import pandas as pd\n",
    "import matplotlib.pyplot as plt\n",
    "\n",
    "class ChartBuilder:\n",
    "    def __init__(self, topic, number):\n",
    "        self.topic = topic\n",
    "        self.number = number\n",
    "    \n",
    "    def build(self):\n",
    "        # Get tweet counts for both candidates grouped by the topic\n",
    "        combined_data = (\n",
    "            df.groupby(['candidate', self.topic])\n",
    "            .size()\n",
    "            .reset_index(name='tweet_count')\n",
    "        )\n",
    "        \n",
    "        # Sum tweet counts by topic\n",
    "        total_counts = combined_data.groupby(self.topic)['tweet_count'].sum().reset_index()\n",
    "        \n",
    "        # Get the top N countries based on total tweet count\n",
    "        top_countries = total_counts.nlargest(self.number, 'tweet_count')\n",
    "        \n",
    "        # Merge to get total counts with candidate counts\n",
    "        top_data = combined_data[combined_data[self.topic].isin(top_countries[self.topic])]\n",
    "        \n",
    "        return top_data\n",
    "    \n",
    "    def plot(self, top_data):\n",
    "        # Create pivot table and plot\n",
    "        pivot_data = top_data.pivot(index=self.topic, columns='candidate', values='tweet_count').fillna(0)\n",
    "        # Sort the pivot table based on total tweet count (Trump first, then Biden)\n",
    "        pivot_data['total'] = pivot_data.sum(axis=1)\n",
    "        pivot_data = pivot_data.sort_values(by='total', ascending=False).drop(columns='total')\n",
    "        \n",
    "        pivot_data.plot(kind='bar', color=['red', 'blue'], width=0.8)\n",
    "\n",
    "        # Add labels and title\n",
    "        plt.xlabel(self.topic.capitalize())\n",
    "        plt.ylabel('Tweet Count')\n",
    "        plt.title(f'Top {self.number} {self.topic.capitalize()} by Tweets')\n",
    "        plt.xticks(rotation=45, ha ='right')\n",
    "        plt.tight_layout()\n",
    "        plt.show()\n",
    "\n",
    "\n"
   ]
  },
  {
   "cell_type": "code",
   "execution_count": 207,
   "metadata": {
    "scrolled": true
   },
   "outputs": [
    {
     "data": {
      "image/png": "[encoded data removed]",
      "text/plain": [
       "<Figure size 432x288 with 1 Axes>"
      ]
     },
     "metadata": {
      "needs_background": "light"
     },
     "output_type": "display_data"
    },
    {
     "data": {
      "image/png": "[encoded data removed]",
      "text/plain": [
       "<Figure size 432x288 with 1 Axes>"
      ]
     },
     "metadata": {
      "needs_background": "light"
     },
     "output_type": "display_data"
    },
    {
     "data": {
      "image/png": "[encoded data removed]",
      "text/plain": [
       "<Figure size 432x288 with 1 Axes>"
      ]
     },
     "metadata": {
      "needs_background": "light"
     },
     "output_type": "display_data"
    }
   ],
   "source": [
    "# Usage\n",
    "# Replace \"United States of America\" with \"United States\"\n",
    "df['country'] = df['country'].replace('United States of America', 'United States')\n",
    "chart_builder = ChartBuilder(topic='country', number=5)\n",
    "top_data = chart_builder.build()\n",
    "chart_builder.plot(top_data)\n",
    "\n",
    "# top 10 state\n",
    "chart_builder = ChartBuilder(topic='state', number=10)\n",
    "top_data = chart_builder.build()\n",
    "chart_builder.plot(top_data)\n",
    "\n",
    "# top 10 source\n",
    "chart_builder = ChartBuilder(topic='source', number=10)\n",
    "top_data = chart_builder.build()\n",
    "chart_builder.plot(top_data)"
   ]
  },
  {
   "cell_type": "code",
   "execution_count": 208,
   "metadata": {},
   "outputs": [
    {
     "name": "stdout",
     "output_type": "stream",
     "text": [
      "/Users/pcfic/Documents/Circle/DataCircle_Twitter_Project\n"
     ]
    }
   ],
   "source": [
    "import os\n",
    "print(os.getcwd())"
   ]
  },
  {
   "cell_type": "code",
   "execution_count": null,
   "metadata": {
    "scrolled": true
   },
   "outputs": [],
   "source": [
    "import nltk\n",
    "from nltk.corpus import stopwords\n",
    "from nltk.tokenize import word_tokenize\n",
    "nltk.download('punkt') #Tokenizer\n",
    "nltk.download('stopwords') #Stopword"
   ]
  },
  {
   "cell_type": "code",
   "execution_count": null,
   "metadata": {},
   "outputs": [],
   "source": [
    "example_sent = \"This is a sample words sentence, showing off the stop words filtration sentence.\"\n",
    "stop_words = set(stopwords.words('english'))\n",
    "word_tokens = word_tokenize(example_sent)\n",
    "filtered_sentence = [w for w in word_tokens if not w in stop_words]\n",
    "filtered_sentence = []\n",
    "for w in word_tokens:\n",
    "    if w not in stop_words:\n",
    "        filtered_sentence.append(w)\n",
    "#AmineAbouothmane\n",
    "print(word_tokens)\n",
    "print(filtered_sentence)"
   ]
  },
  {
   "cell_type": "code",
   "execution_count": null,
   "metadata": {},
   "outputs": [],
   "source": []
  }
 ],
 "metadata": {
  "kernelspec": {
   "display_name": "Python 3",
   "language": "python",
   "name": "python3"
  },
  "language_info": {
   "codemirror_mode": {
    "name": "ipython",
    "version": 3
   },
   "file_extension": ".py",
   "mimetype": "text/x-python",
   "name": "python",
   "nbconvert_exporter": "python",
   "pygments_lexer": "ipython3",
   "version": "3.8.5"
  }
 },
 "nbformat": 4,
 "nbformat_minor": 4
}
