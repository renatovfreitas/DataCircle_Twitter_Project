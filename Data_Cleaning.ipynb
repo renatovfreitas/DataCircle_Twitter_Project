{
 "cells": [
  {
   "cell_type": "markdown",
   "metadata": {},
   "source": [
    "# Data Cleaning and Manipulation"
   ]
  },
  {
   "cell_type": "code",
   "execution_count": 1,
   "metadata": {},
   "outputs": [],
   "source": [
    "import pandas as pd\n",
    "import datetime as dt\n",
    "import fasttext\n",
    "import re\n",
    "import matplotlib.pyplot as plt\n",
    "import seaborn as sns\n",
    "from scipy import stats\n",
    "import numpy as np"
   ]
  },
  {
   "cell_type": "code",
   "execution_count": 148,
   "metadata": {},
   "outputs": [
    {
     "name": "stdout",
     "output_type": "stream",
     "text": [
      "<class 'pandas.core.frame.DataFrame'>\n",
      "RangeIndex: 776886 entries, 0 to 776885\n",
      "Data columns (total 21 columns):\n",
      " #   Column                Non-Null Count   Dtype  \n",
      "---  ------                --------------   -----  \n",
      " 0   created_at            776886 non-null  object \n",
      " 1   tweet_id              776886 non-null  float64\n",
      " 2   tweet                 776886 non-null  object \n",
      " 3   likes                 776886 non-null  float64\n",
      " 4   retweet_count         776886 non-null  float64\n",
      " 5   source                776173 non-null  object \n",
      " 6   user_id               776886 non-null  float64\n",
      " 7   user_name             776861 non-null  object \n",
      " 8   user_screen_name      776886 non-null  object \n",
      " 9   user_description      694877 non-null  object \n",
      " 10  user_join_date        776886 non-null  object \n",
      " 11  user_followers_count  776886 non-null  float64\n",
      " 12  user_location         543092 non-null  object \n",
      " 13  lat                   355293 non-null  float64\n",
      " 14  long                  355293 non-null  float64\n",
      " 15  city                  186872 non-null  object \n",
      " 16  country               353779 non-null  object \n",
      " 17  continent             353797 non-null  object \n",
      " 18  state                 260195 non-null  object \n",
      " 19  state_code            244609 non-null  object \n",
      " 20  collected_at          776886 non-null  object \n",
      "dtypes: float64(7), object(14)\n",
      "memory usage: 124.5+ MB\n",
      "None\n",
      "<class 'pandas.core.frame.DataFrame'>\n",
      "RangeIndex: 970919 entries, 0 to 970918\n",
      "Data columns (total 21 columns):\n",
      " #   Column                Non-Null Count   Dtype  \n",
      "---  ------                --------------   -----  \n",
      " 0   created_at            970919 non-null  object \n",
      " 1   tweet_id              970919 non-null  float64\n",
      " 2   tweet                 970919 non-null  object \n",
      " 3   likes                 970919 non-null  float64\n",
      " 4   retweet_count         970919 non-null  float64\n",
      " 5   source                970043 non-null  object \n",
      " 6   user_id               970919 non-null  float64\n",
      " 7   user_name             970897 non-null  object \n",
      " 8   user_screen_name      970919 non-null  object \n",
      " 9   user_description      869651 non-null  object \n",
      " 10  user_join_date        970919 non-null  object \n",
      " 11  user_followers_count  970919 non-null  float64\n",
      " 12  user_location         675957 non-null  object \n",
      " 13  lat                   445719 non-null  float64\n",
      " 14  long                  445719 non-null  float64\n",
      " 15  city                  227187 non-null  object \n",
      " 16  country               442748 non-null  object \n",
      " 17  continent             442765 non-null  object \n",
      " 18  state                 320620 non-null  object \n",
      " 19  state_code            300425 non-null  object \n",
      " 20  collected_at          970919 non-null  object \n",
      "dtypes: float64(7), object(14)\n",
      "memory usage: 155.6+ MB\n",
      "None\n"
     ]
    }
   ],
   "source": [
    "# read csv files\n",
    "biden_df = pd.read_csv(r\"C:\\Users\\User\\iCloudDrive\\Cursos\\Data Circle\\DataCircle_Twitter_Project\\hashtag_joebiden.csv\",lineterminator='\\n')\n",
    "trump_df = pd.read_csv(r\"C:\\Users\\User\\iCloudDrive\\Cursos\\Data Circle\\DataCircle_Twitter_Project\\hashtag_donaldtrump.csv\", lineterminator='\\n')\n",
    "\n",
    "print(biden_df.info())\n",
    "print(trump_df.info())"
   ]
  },
  {
   "cell_type": "markdown",
   "metadata": {},
   "source": [
    "## Data Preprocessing"
   ]
  },
  {
   "cell_type": "code",
   "execution_count": 149,
   "metadata": {},
   "outputs": [],
   "source": [
    "# create a new column 'candidate' to differentiate tweets of each candidate after concatenation \n",
    "trump_df['candidate'] = 'trump'\n",
    "\n",
    "# biden dataframe \n",
    "biden_df['candidate'] = 'biden'\n",
    "\n",
    "# combining the dataframes \n",
    "twitter_df = pd.concat([trump_df, biden_df])\n"
   ]
  },
  {
   "cell_type": "code",
   "execution_count": 150,
   "metadata": {},
   "outputs": [
    {
     "name": "stdout",
     "output_type": "stream",
     "text": [
      "<class 'pandas.core.frame.DataFrame'>\n",
      "Index: 1747805 entries, 0 to 776885\n",
      "Data columns (total 22 columns):\n",
      " #   Column                Dtype  \n",
      "---  ------                -----  \n",
      " 0   created_at            object \n",
      " 1   tweet_id              float64\n",
      " 2   tweet                 object \n",
      " 3   likes                 float64\n",
      " 4   retweet_count         float64\n",
      " 5   source                object \n",
      " 6   user_id               float64\n",
      " 7   user_name             object \n",
      " 8   user_screen_name      object \n",
      " 9   user_description      object \n",
      " 10  user_join_date        object \n",
      " 11  user_followers_count  float64\n",
      " 12  user_location         object \n",
      " 13  lat                   float64\n",
      " 14  long                  float64\n",
      " 15  city                  object \n",
      " 16  country               object \n",
      " 17  continent             object \n",
      " 18  state                 object \n",
      " 19  state_code            object \n",
      " 20  collected_at          object \n",
      " 21  candidate             object \n",
      "dtypes: float64(7), object(15)\n",
      "memory usage: 306.7+ MB\n"
     ]
    }
   ],
   "source": [
    "twitter_df.info()"
   ]
  },
  {
   "cell_type": "code",
   "execution_count": 151,
   "metadata": {},
   "outputs": [
    {
     "data": {
      "text/plain": [
       "created_at                    0\n",
       "tweet_id                      0\n",
       "tweet                         0\n",
       "likes                         0\n",
       "retweet_count                 0\n",
       "source                     1589\n",
       "user_id                       0\n",
       "user_name                    47\n",
       "user_screen_name              0\n",
       "user_description         183277\n",
       "user_join_date                0\n",
       "user_followers_count          0\n",
       "user_location            528756\n",
       "lat                      946793\n",
       "long                     946793\n",
       "city                    1333746\n",
       "country                  951278\n",
       "continent                951243\n",
       "state                   1166990\n",
       "state_code              1202771\n",
       "collected_at                  0\n",
       "candidate                     0\n",
       "dtype: int64"
      ]
     },
     "execution_count": 151,
     "metadata": {},
     "output_type": "execute_result"
    }
   ],
   "source": [
    "twitter_df.isnull().sum()"
   ]
  },
  {
   "cell_type": "markdown",
   "metadata": {},
   "source": [
    "### Remove irrelevant data"
   ]
  },
  {
   "cell_type": "code",
   "execution_count": 152,
   "metadata": {},
   "outputs": [],
   "source": [
    "# Remove irrelevant data (\"user_name\", \"user_screen_name\", \"user_description\")\n",
    "twitter_df = twitter_df[['created_at', 'tweet_id', 'tweet', 'likes', 'retweet_count', 'source',\n",
    "       'user_id', 'user_join_date', 'user_followers_count', 'user_location', 'city', 'country', 'state', 'candidate']]"
   ]
  },
  {
   "cell_type": "markdown",
   "metadata": {},
   "source": [
    "### Drop duplicate values"
   ]
  },
  {
   "cell_type": "code",
   "execution_count": 153,
   "metadata": {},
   "outputs": [],
   "source": [
    "# Drop duplicates based on 'tweet_id', 'tweet', and 'created_at'\n",
    "twitter_df = twitter_df[~(twitter_df.duplicated(subset=['tweet_id', 'tweet', 'created_at'], keep=False))]"
   ]
  },
  {
   "cell_type": "code",
   "execution_count": 154,
   "metadata": {},
   "outputs": [
    {
     "data": {
      "text/html": [
       "<div>\n",
       "<style scoped>\n",
       "    .dataframe tbody tr th:only-of-type {\n",
       "        vertical-align: middle;\n",
       "    }\n",
       "\n",
       "    .dataframe tbody tr th {\n",
       "        vertical-align: top;\n",
       "    }\n",
       "\n",
       "    .dataframe thead th {\n",
       "        text-align: right;\n",
       "    }\n",
       "</style>\n",
       "<table border=\"1\" class=\"dataframe\">\n",
       "  <thead>\n",
       "    <tr style=\"text-align: right;\">\n",
       "      <th></th>\n",
       "      <th>created_at</th>\n",
       "      <th>tweet_id</th>\n",
       "      <th>tweet</th>\n",
       "      <th>likes</th>\n",
       "      <th>retweet_count</th>\n",
       "      <th>source</th>\n",
       "      <th>user_id</th>\n",
       "      <th>user_join_date</th>\n",
       "      <th>user_followers_count</th>\n",
       "      <th>user_location</th>\n",
       "      <th>city</th>\n",
       "      <th>country</th>\n",
       "      <th>state</th>\n",
       "      <th>candidate</th>\n",
       "    </tr>\n",
       "  </thead>\n",
       "  <tbody>\n",
       "  </tbody>\n",
       "</table>\n",
       "</div>"
      ],
      "text/plain": [
       "Empty DataFrame\n",
       "Columns: [created_at, tweet_id, tweet, likes, retweet_count, source, user_id, user_join_date, user_followers_count, user_location, city, country, state, candidate]\n",
       "Index: []"
      ]
     },
     "execution_count": 154,
     "metadata": {},
     "output_type": "execute_result"
    }
   ],
   "source": [
    "twitter_df[twitter_df.duplicated(subset=['tweet']) & twitter_df.duplicated(subset=['tweet_id'])]"
   ]
  },
  {
   "cell_type": "markdown",
   "metadata": {},
   "source": [
    "### Ensure data consistency"
   ]
  },
  {
   "cell_type": "code",
   "execution_count": 155,
   "metadata": {},
   "outputs": [],
   "source": [
    "# Standardize timestamps to a consistent timezone (UTC).\n",
    "def standardize_timezone(df, timestamp_column, current_timezone='UTC'):\n",
    "    # Convert the timestamp column to datetime, handling errors\n",
    "    df[timestamp_column] = pd.to_datetime(df[timestamp_column], errors='coerce')\n",
    "\n",
    "     # Round the timestamps to the nearest second\n",
    "    df[timestamp_column] = df[timestamp_column].dt.round('s')\n",
    "\n",
    "    return df\n",
    "\n",
    "\n",
    "twitter_df = standardize_timezone(twitter_df, 'created_at', current_timezone='America/New_York')\n",
    "twitter_df = standardize_timezone(twitter_df, 'user_join_date', current_timezone='America/New_York')"
   ]
  },
  {
   "cell_type": "code",
   "execution_count": 156,
   "metadata": {},
   "outputs": [],
   "source": [
    "# Function to convert selected columns to int\n",
    "def convert_columns_to_int(df, columns):\n",
    "    for column in columns:\n",
    "        # Convert to numeric first to handle any non-numeric values\n",
    "        df[column] = pd.to_numeric(df[column], errors='coerce').fillna(0).astype('int64') \n",
    "    return df\n",
    "\n",
    "columns_to_convert_int = ['likes', 'retweet_count', 'user_followers_count', 'tweet_id', \"user_id\"]\n",
    "twitter_df = convert_columns_to_int(twitter_df, columns_to_convert_int)"
   ]
  },
  {
   "cell_type": "code",
   "execution_count": 157,
   "metadata": {},
   "outputs": [
    {
     "name": "stdout",
     "output_type": "stream",
     "text": [
      "<class 'pandas.core.frame.DataFrame'>\n",
      "Index: 1299318 entries, 1 to 776885\n",
      "Data columns (total 14 columns):\n",
      " #   Column                Non-Null Count    Dtype         \n",
      "---  ------                --------------    -----         \n",
      " 0   created_at            1299318 non-null  datetime64[ns]\n",
      " 1   tweet_id              1299318 non-null  int64         \n",
      " 2   tweet                 1299318 non-null  object        \n",
      " 3   likes                 1299318 non-null  int64         \n",
      " 4   retweet_count         1299318 non-null  int64         \n",
      " 5   source                1298957 non-null  object        \n",
      " 6   user_id               1299318 non-null  int64         \n",
      " 7   user_join_date        1299318 non-null  datetime64[ns]\n",
      " 8   user_followers_count  1299318 non-null  int64         \n",
      " 9   user_location         902134 non-null   object        \n",
      " 10  city                  301007 non-null   object        \n",
      " 11  country               590204 non-null   object        \n",
      " 12  state                 439309 non-null   object        \n",
      " 13  candidate             1299318 non-null  object        \n",
      "dtypes: datetime64[ns](2), int64(5), object(7)\n",
      "memory usage: 148.7+ MB\n"
     ]
    }
   ],
   "source": [
    "twitter_df.info()"
   ]
  },
  {
   "cell_type": "code",
   "execution_count": 158,
   "metadata": {},
   "outputs": [],
   "source": [
    "# Ensure all text fields are lowercase for consistent NLP analysis.\n",
    "def clean_and_convert_text_fields(df, text_columns, tweet_column):\n",
    "    # Clean and convert text columns to lowercase\n",
    "    for column in text_columns:\n",
    "        df[column] = df[column].str.lower().str.strip()  # Convert to lowercase, remove leading and trailing spaces\n",
    "    \n",
    "    # Remove URLs from tweet column\n",
    "    url_pattern = r'http[s]?://\\S+|www\\.\\S+'\n",
    "    df[tweet_column] = df[tweet_column].str.replace(url_pattern, '', regex=True)\n",
    "\n",
    "    # Remove unwanted symbols from tweet column\n",
    "    df[tweet_column] = df[tweet_column].str.replace(r'[^a-zA-Z0-9# ]', '', regex=True)\n",
    "\n",
    "    return df\n",
    "\n",
    "# Return the names of object columns\n",
    "text_columns_to_convert = twitter_df.select_dtypes(include=['object']).columns.tolist()\n",
    "twitter_df = clean_and_convert_text_fields(twitter_df, text_columns_to_convert, \"tweet\")"
   ]
  },
  {
   "cell_type": "code",
   "execution_count": 159,
   "metadata": {},
   "outputs": [
    {
     "data": {
      "text/plain": [
       "(1299318, 14)"
      ]
     },
     "execution_count": 159,
     "metadata": {},
     "output_type": "execute_result"
    }
   ],
   "source": [
    "twitter_df.shape"
   ]
  },
  {
   "cell_type": "code",
   "execution_count": 160,
   "metadata": {},
   "outputs": [
    {
     "data": {
      "text/plain": [
       "country\n",
       "united states of america    270322\n",
       "united states                48393\n",
       "united kingdom               43705\n",
       "germany                      23956\n",
       "india                        23467\n",
       "                             ...  \n",
       "vanuatu                          1\n",
       "northern mariana islands         1\n",
       "saint lucia                      1\n",
       "lesotho                          1\n",
       "east timor                       1\n",
       "Name: count, Length: 188, dtype: int64"
      ]
     },
     "execution_count": 160,
     "metadata": {},
     "output_type": "execute_result"
    }
   ],
   "source": [
    "twitter_df[\"country\"].value_counts()"
   ]
  },
  {
   "cell_type": "code",
   "execution_count": 161,
   "metadata": {},
   "outputs": [],
   "source": [
    "# Create a mapping dictionary\n",
    "country_mapping = {\n",
    "    'united states of america': 'united states',\n",
    "    'the netherlands': 'netherlands'\n",
    "    }\n",
    "\n",
    "# Standardize country names using the mapping\n",
    "twitter_df['country'] = twitter_df['country'].replace(country_mapping)"
   ]
  },
  {
   "cell_type": "markdown",
   "metadata": {},
   "source": [
    "### Handle missing values"
   ]
  },
  {
   "cell_type": "code",
   "execution_count": 162,
   "metadata": {},
   "outputs": [
    {
     "data": {
      "text/plain": [
       "created_at                   0\n",
       "tweet_id                     0\n",
       "tweet                        0\n",
       "likes                        0\n",
       "retweet_count                0\n",
       "source                     361\n",
       "user_id                      0\n",
       "user_join_date               0\n",
       "user_followers_count         0\n",
       "user_location           397184\n",
       "city                    998311\n",
       "country                 709114\n",
       "state                   860009\n",
       "candidate                    0\n",
       "dtype: int64"
      ]
     },
     "execution_count": 162,
     "metadata": {},
     "output_type": "execute_result"
    }
   ],
   "source": [
    "twitter_df.isnull().sum()"
   ]
  },
  {
   "cell_type": "code",
   "execution_count": 163,
   "metadata": {},
   "outputs": [],
   "source": [
    "# Fill missing values in the 'source' column with the most frequent value (mode)\n",
    "twitter_df[\"source\"] = twitter_df[\"source\"].fillna(twitter_df[\"source\"].mode()[0])"
   ]
  },
  {
   "cell_type": "code",
   "execution_count": 166,
   "metadata": {},
   "outputs": [
    {
     "data": {
      "text/html": [
       "<div>\n",
       "<style scoped>\n",
       "    .dataframe tbody tr th:only-of-type {\n",
       "        vertical-align: middle;\n",
       "    }\n",
       "\n",
       "    .dataframe tbody tr th {\n",
       "        vertical-align: top;\n",
       "    }\n",
       "\n",
       "    .dataframe thead th {\n",
       "        text-align: right;\n",
       "    }\n",
       "</style>\n",
       "<table border=\"1\" class=\"dataframe\">\n",
       "  <thead>\n",
       "    <tr style=\"text-align: right;\">\n",
       "      <th></th>\n",
       "      <th>created_at</th>\n",
       "      <th>tweet_id</th>\n",
       "      <th>tweet</th>\n",
       "      <th>likes</th>\n",
       "      <th>retweet_count</th>\n",
       "      <th>source</th>\n",
       "      <th>user_id</th>\n",
       "      <th>user_join_date</th>\n",
       "      <th>user_followers_count</th>\n",
       "      <th>user_location</th>\n",
       "      <th>city</th>\n",
       "      <th>country</th>\n",
       "      <th>state</th>\n",
       "      <th>candidate</th>\n",
       "    </tr>\n",
       "  </thead>\n",
       "  <tbody>\n",
       "  </tbody>\n",
       "</table>\n",
       "</div>"
      ],
      "text/plain": [
       "Empty DataFrame\n",
       "Columns: [created_at, tweet_id, tweet, likes, retweet_count, source, user_id, user_join_date, user_followers_count, user_location, city, country, state, candidate]\n",
       "Index: []"
      ]
     },
     "execution_count": 166,
     "metadata": {},
     "output_type": "execute_result"
    }
   ],
   "source": [
    "# Filter rows where user location is null and either lat, long, city, state or country is not null\n",
    "twitter_df[(twitter_df[\"user_location\"].isna()) & (~(twitter_df[\"city\"].isna()) | ~(twitter_df[\"state\"].isna()) | ~(twitter_df[\"country\"].isna()))]"
   ]
  },
  {
   "cell_type": "markdown",
   "metadata": {},
   "source": [
    "Based on the previous output, whenever the user location is null, lat, long, city, state and country will also be null. Which means user location column can not be filled with the other location columns"
   ]
  },
  {
   "cell_type": "code",
   "execution_count": 167,
   "metadata": {},
   "outputs": [],
   "source": [
    "twitter_df[\"user_location\"] = twitter_df[\"user_location\"].fillna(\"unkown\")\n",
    "twitter_df[\"city\"] = twitter_df[\"city\"].fillna(\"unkown\")\n",
    "twitter_df[\"state\"] = twitter_df[\"state\"].fillna(\"unkown\")\n",
    "twitter_df[\"country\"] = twitter_df[\"country\"].fillna(\"unkown\")\n"
   ]
  },
  {
   "cell_type": "code",
   "execution_count": 168,
   "metadata": {},
   "outputs": [
    {
     "data": {
      "text/plain": [
       "created_at              0\n",
       "tweet_id                0\n",
       "tweet                   0\n",
       "likes                   0\n",
       "retweet_count           0\n",
       "source                  0\n",
       "user_id                 0\n",
       "user_join_date          0\n",
       "user_followers_count    0\n",
       "user_location           0\n",
       "city                    0\n",
       "country                 0\n",
       "state                   0\n",
       "candidate               0\n",
       "dtype: int64"
      ]
     },
     "execution_count": 168,
     "metadata": {},
     "output_type": "execute_result"
    }
   ],
   "source": [
    "twitter_df.isnull().sum()"
   ]
  },
  {
   "cell_type": "code",
   "execution_count": 169,
   "metadata": {},
   "outputs": [
    {
     "data": {
      "text/plain": [
       "(1299318, 14)"
      ]
     },
     "execution_count": 169,
     "metadata": {},
     "output_type": "execute_result"
    }
   ],
   "source": [
    "twitter_df.shape"
   ]
  },
  {
   "cell_type": "markdown",
   "metadata": {},
   "source": [
    "### Detect tweet language and filter only english tweets"
   ]
  },
  {
   "cell_type": "code",
   "execution_count": 170,
   "metadata": {},
   "outputs": [],
   "source": [
    "# Load the FastText pre-trained language identification model\n",
    "model = fasttext.load_model('lid.176.bin')\n",
    "\n",
    "# Function to detect language\n",
    "def detect_language(text):\n",
    "    try:\n",
    "        predictions = model.predict(text, k=1)  # Get top 1 language prediction\n",
    "        lang_code = predictions[0][0].split(\"__label__\")[1]  # Extract language code\n",
    "        return lang_code\n",
    "    except Exception as e:\n",
    "        return 'unknown'  # Return 'unknown' for any errors\n",
    "\n",
    "# Apply language detection to your \"tweet\" column \n",
    "twitter_df['language'] = twitter_df['tweet'].apply(detect_language)"
   ]
  },
  {
   "cell_type": "code",
   "execution_count": 171,
   "metadata": {},
   "outputs": [
    {
     "data": {
      "text/plain": [
       "language\n",
       "en     1014164\n",
       "es       66146\n",
       "fr       49102\n",
       "de       43471\n",
       "it       33050\n",
       "        ...   \n",
       "tk           1\n",
       "hsb          1\n",
       "frr          1\n",
       "cbk          1\n",
       "ne           1\n",
       "Name: count, Length: 126, dtype: int64"
      ]
     },
     "execution_count": 171,
     "metadata": {},
     "output_type": "execute_result"
    }
   ],
   "source": [
    "twitter_df['language'].value_counts()"
   ]
  },
  {
   "cell_type": "code",
   "execution_count": 172,
   "metadata": {},
   "outputs": [],
   "source": [
    "# filter only twitter in english language\n",
    "twitter_df = twitter_df[twitter_df['language']=='en']"
   ]
  },
  {
   "cell_type": "code",
   "execution_count": 173,
   "metadata": {},
   "outputs": [],
   "source": [
    "# Drop language column\n",
    "twitter_df = twitter_df.drop(columns='language')"
   ]
  },
  {
   "cell_type": "code",
   "execution_count": 174,
   "metadata": {},
   "outputs": [
    {
     "name": "stdout",
     "output_type": "stream",
     "text": [
      "<class 'pandas.core.frame.DataFrame'>\n",
      "Index: 1014164 entries, 2 to 776880\n",
      "Data columns (total 14 columns):\n",
      " #   Column                Non-Null Count    Dtype         \n",
      "---  ------                --------------    -----         \n",
      " 0   created_at            1014164 non-null  datetime64[ns]\n",
      " 1   tweet_id              1014164 non-null  int64         \n",
      " 2   tweet                 1014164 non-null  object        \n",
      " 3   likes                 1014164 non-null  int64         \n",
      " 4   retweet_count         1014164 non-null  int64         \n",
      " 5   source                1014164 non-null  object        \n",
      " 6   user_id               1014164 non-null  int64         \n",
      " 7   user_join_date        1014164 non-null  datetime64[ns]\n",
      " 8   user_followers_count  1014164 non-null  int64         \n",
      " 9   user_location         1014164 non-null  object        \n",
      " 10  city                  1014164 non-null  object        \n",
      " 11  country               1014164 non-null  object        \n",
      " 12  state                 1014164 non-null  object        \n",
      " 13  candidate             1014164 non-null  object        \n",
      "dtypes: datetime64[ns](2), int64(5), object(7)\n",
      "memory usage: 116.1+ MB\n"
     ]
    }
   ],
   "source": [
    "twitter_df.info()"
   ]
  },
  {
   "cell_type": "markdown",
   "metadata": {},
   "source": [
    "### Handle Outliers"
   ]
  },
  {
   "cell_type": "code",
   "execution_count": 175,
   "metadata": {},
   "outputs": [
    {
     "data": {
      "text/html": [
       "<div>\n",
       "<style scoped>\n",
       "    .dataframe tbody tr th:only-of-type {\n",
       "        vertical-align: middle;\n",
       "    }\n",
       "\n",
       "    .dataframe tbody tr th {\n",
       "        vertical-align: top;\n",
       "    }\n",
       "\n",
       "    .dataframe thead th {\n",
       "        text-align: right;\n",
       "    }\n",
       "</style>\n",
       "<table border=\"1\" class=\"dataframe\">\n",
       "  <thead>\n",
       "    <tr style=\"text-align: right;\">\n",
       "      <th></th>\n",
       "      <th>created_at</th>\n",
       "      <th>tweet_id</th>\n",
       "      <th>likes</th>\n",
       "      <th>retweet_count</th>\n",
       "      <th>user_id</th>\n",
       "      <th>user_join_date</th>\n",
       "      <th>user_followers_count</th>\n",
       "    </tr>\n",
       "  </thead>\n",
       "  <tbody>\n",
       "    <tr>\n",
       "      <th>count</th>\n",
       "      <td>1014164</td>\n",
       "      <td>1.014164e+06</td>\n",
       "      <td>1.014164e+06</td>\n",
       "      <td>1.014164e+06</td>\n",
       "      <td>1.014164e+06</td>\n",
       "      <td>1014164</td>\n",
       "      <td>1.014164e+06</td>\n",
       "    </tr>\n",
       "    <tr>\n",
       "      <th>mean</th>\n",
       "      <td>2020-10-30 20:30:12.998851072</td>\n",
       "      <td>1.322275e+18</td>\n",
       "      <td>7.458218e+00</td>\n",
       "      <td>1.701950e+00</td>\n",
       "      <td>4.466064e+17</td>\n",
       "      <td>2014-08-31 12:41:36.776235776</td>\n",
       "      <td>1.272916e+04</td>\n",
       "    </tr>\n",
       "    <tr>\n",
       "      <th>min</th>\n",
       "      <td>2020-10-15 00:00:02</td>\n",
       "      <td>1.316529e+18</td>\n",
       "      <td>0.000000e+00</td>\n",
       "      <td>0.000000e+00</td>\n",
       "      <td>5.310000e+02</td>\n",
       "      <td>1970-01-01 00:00:00</td>\n",
       "      <td>0.000000e+00</td>\n",
       "    </tr>\n",
       "    <tr>\n",
       "      <th>25%</th>\n",
       "      <td>2020-10-24 03:02:00.750000128</td>\n",
       "      <td>1.319837e+18</td>\n",
       "      <td>0.000000e+00</td>\n",
       "      <td>0.000000e+00</td>\n",
       "      <td>2.090197e+08</td>\n",
       "      <td>2010-10-28 11:11:05</td>\n",
       "      <td>6.800000e+01</td>\n",
       "    </tr>\n",
       "    <tr>\n",
       "      <th>50%</th>\n",
       "      <td>2020-11-02 13:49:34</td>\n",
       "      <td>1.323261e+18</td>\n",
       "      <td>0.000000e+00</td>\n",
       "      <td>0.000000e+00</td>\n",
       "      <td>2.371464e+09</td>\n",
       "      <td>2014-03-03 21:15:13</td>\n",
       "      <td>3.790000e+02</td>\n",
       "    </tr>\n",
       "    <tr>\n",
       "      <th>75%</th>\n",
       "      <td>2020-11-06 07:25:48.249999872</td>\n",
       "      <td>1.324614e+18</td>\n",
       "      <td>1.000000e+00</td>\n",
       "      <td>0.000000e+00</td>\n",
       "      <td>1.072052e+18</td>\n",
       "      <td>2018-12-10 08:19:45.750000128</td>\n",
       "      <td>1.800000e+03</td>\n",
       "    </tr>\n",
       "    <tr>\n",
       "      <th>max</th>\n",
       "      <td>2020-11-08 23:59:56</td>\n",
       "      <td>1.325589e+18</td>\n",
       "      <td>1.657020e+05</td>\n",
       "      <td>6.347300e+04</td>\n",
       "      <td>1.325581e+18</td>\n",
       "      <td>2020-11-08 23:27:09</td>\n",
       "      <td>8.241710e+07</td>\n",
       "    </tr>\n",
       "    <tr>\n",
       "      <th>std</th>\n",
       "      <td>NaN</td>\n",
       "      <td>2.679889e+15</td>\n",
       "      <td>3.388476e+02</td>\n",
       "      <td>8.299271e+01</td>\n",
       "      <td>5.541961e+17</td>\n",
       "      <td>NaN</td>\n",
       "      <td>2.709050e+05</td>\n",
       "    </tr>\n",
       "  </tbody>\n",
       "</table>\n",
       "</div>"
      ],
      "text/plain": [
       "                          created_at      tweet_id         likes  \\\n",
       "count                        1014164  1.014164e+06  1.014164e+06   \n",
       "mean   2020-10-30 20:30:12.998851072  1.322275e+18  7.458218e+00   \n",
       "min              2020-10-15 00:00:02  1.316529e+18  0.000000e+00   \n",
       "25%    2020-10-24 03:02:00.750000128  1.319837e+18  0.000000e+00   \n",
       "50%              2020-11-02 13:49:34  1.323261e+18  0.000000e+00   \n",
       "75%    2020-11-06 07:25:48.249999872  1.324614e+18  1.000000e+00   \n",
       "max              2020-11-08 23:59:56  1.325589e+18  1.657020e+05   \n",
       "std                              NaN  2.679889e+15  3.388476e+02   \n",
       "\n",
       "       retweet_count       user_id                 user_join_date  \\\n",
       "count   1.014164e+06  1.014164e+06                        1014164   \n",
       "mean    1.701950e+00  4.466064e+17  2014-08-31 12:41:36.776235776   \n",
       "min     0.000000e+00  5.310000e+02            1970-01-01 00:00:00   \n",
       "25%     0.000000e+00  2.090197e+08            2010-10-28 11:11:05   \n",
       "50%     0.000000e+00  2.371464e+09            2014-03-03 21:15:13   \n",
       "75%     0.000000e+00  1.072052e+18  2018-12-10 08:19:45.750000128   \n",
       "max     6.347300e+04  1.325581e+18            2020-11-08 23:27:09   \n",
       "std     8.299271e+01  5.541961e+17                            NaN   \n",
       "\n",
       "       user_followers_count  \n",
       "count          1.014164e+06  \n",
       "mean           1.272916e+04  \n",
       "min            0.000000e+00  \n",
       "25%            6.800000e+01  \n",
       "50%            3.790000e+02  \n",
       "75%            1.800000e+03  \n",
       "max            8.241710e+07  \n",
       "std            2.709050e+05  "
      ]
     },
     "execution_count": 175,
     "metadata": {},
     "output_type": "execute_result"
    }
   ],
   "source": [
    "twitter_df.describe()\n"
   ]
  },
  {
   "cell_type": "code",
   "execution_count": 176,
   "metadata": {},
   "outputs": [
    {
     "name": "stdout",
     "output_type": "stream",
     "text": [
      "likes skewness:\n",
      "295.925127223701\n",
      "\n",
      "\n",
      "likes kurtosis:\n",
      "116622.03227610393\n",
      "\n",
      "\n",
      "retweet skewness:\n",
      "491.1260558361259\n",
      "\n",
      "\n",
      "retweet kurtosis:\n",
      "345558.2027214485\n"
     ]
    }
   ],
   "source": [
    "print(\"likes skewness:\")\n",
    "print(twitter_df[\"likes\"].skew())\n",
    "print(\"\\n\")\n",
    "print(\"likes kurtosis:\")\n",
    "print(twitter_df[\"likes\"].kurtosis())\n",
    "print(\"\\n\")\n",
    "print(\"retweet skewness:\")\n",
    "print(twitter_df[\"retweet_count\"].skew())\n",
    "print(\"\\n\")\n",
    "print(\"retweet kurtosis:\")\n",
    "print(twitter_df[\"retweet_count\"].kurtosis())"
   ]
  },
  {
   "cell_type": "code",
   "execution_count": 177,
   "metadata": {},
   "outputs": [
    {
     "data": {
      "image/png": "[encoded data removed]",
      "text/plain": [
       "<Figure size 1400x600 with 2 Axes>"
      ]
     },
     "metadata": {},
     "output_type": "display_data"
    },
    {
     "data": {
      "image/png": "[encoded data removed]",
      "text/plain": [
       "<Figure size 1400x600 with 2 Axes>"
      ]
     },
     "metadata": {},
     "output_type": "display_data"
    },
    {
     "data": {
      "image/png": "[encoded data removed]",
      "text/plain": [
       "<Figure size 1400x600 with 2 Axes>"
      ]
     },
     "metadata": {},
     "output_type": "display_data"
    }
   ],
   "source": [
    "# Subset the data for 'likes' and 'retweets'\n",
    "likes = twitter_df['likes']\n",
    "retweets = twitter_df['retweet_count']\n",
    "\n",
    "# 1. Histogram and KDE for 'likes' and 'retweets'\n",
    "plt.figure(figsize=(14, 6))\n",
    "\n",
    "plt.subplot(1, 2, 1)\n",
    "sns.histplot(likes, bins=50, kde=True)\n",
    "plt.title('Likes Distribution')\n",
    "\n",
    "plt.subplot(1, 2, 2)\n",
    "sns.histplot(retweets, bins=50, kde=True)\n",
    "plt.title('Retweets Distribution')\n",
    "\n",
    "plt.show()\n",
    "\n",
    "# 2. Boxplot for 'likes' and 'retweets' (helps identify outliers)\n",
    "plt.figure(figsize=(14, 6))\n",
    "\n",
    "plt.subplot(1, 2, 1)\n",
    "sns.boxplot(x=likes)\n",
    "plt.title('Boxplot of Likes')\n",
    "\n",
    "plt.subplot(1, 2, 2)\n",
    "sns.boxplot(x=retweets)\n",
    "plt.title('Boxplot of Retweets')\n",
    "\n",
    "plt.show()\n",
    "\n",
    "# 3. Log-transformed histograms to compress extreme outliers\n",
    "plt.figure(figsize=(14, 6))\n",
    "\n",
    "plt.subplot(1, 2, 1)\n",
    "sns.histplot(np.log1p(likes), bins=50, kde=True)\n",
    "plt.title('Log-Transformed Likes Distribution')\n",
    "\n",
    "plt.subplot(1, 2, 2)\n",
    "sns.histplot(np.log1p(retweets), bins=50, kde=True)\n",
    "plt.title('Log-Transformed Retweets Distribution')\n",
    "\n",
    "plt.show()"
   ]
  },
  {
   "cell_type": "code",
   "execution_count": 178,
   "metadata": {},
   "outputs": [
    {
     "name": "stdout",
     "output_type": "stream",
     "text": [
      "Number of outliers in 'likes' using IQR: 90363\n",
      "Number of outliers in 'retweets' using IQR: 172679\n"
     ]
    }
   ],
   "source": [
    "# Detect outliers using IQR for 'likes' and 'retweets'\n",
    "\n",
    "# For 'likes'\n",
    "Q1_likes = twitter_df['likes'].quantile(0.25)\n",
    "Q3_likes = twitter_df['likes'].quantile(0.75)\n",
    "IQR_likes = Q3_likes - Q1_likes\n",
    "\n",
    "lower_bound_likes = Q1_likes - 3 * IQR_likes\n",
    "upper_bound_likes = Q3_likes + 3 * IQR_likes\n",
    "\n",
    "# For 'retweets'\n",
    "Q1_retweets = twitter_df['retweet_count'].quantile(0.25)\n",
    "Q3_retweets = twitter_df['retweet_count'].quantile(0.75)\n",
    "IQR_retweets = Q3_retweets - Q1_retweets\n",
    "\n",
    "lower_bound_retweets = Q1_retweets - 3 * IQR_retweets\n",
    "upper_bound_retweets = Q3_retweets + 3 * IQR_retweets\n",
    "\n",
    "# Identify outliers in 'likes' and 'retweets'\n",
    "outliers_likes = twitter_df[(twitter_df['likes'] < lower_bound_likes) | (twitter_df['likes'] > upper_bound_likes)]\n",
    "outliers_retweets = twitter_df[(twitter_df['retweet_count'] < lower_bound_retweets) | (twitter_df['retweet_count'] > upper_bound_retweets)]\n",
    "\n",
    "print(f\"Number of outliers in 'likes' using IQR: {len(outliers_likes)}\")\n",
    "print(f\"Number of outliers in 'retweets' using IQR: {len(outliers_retweets)}\")\n"
   ]
  },
  {
   "cell_type": "code",
   "execution_count": 179,
   "metadata": {},
   "outputs": [
    {
     "name": "stdout",
     "output_type": "stream",
     "text": [
      "count     90363.000000\n",
      "mean         77.741609\n",
      "std        1132.786308\n",
      "min           5.000000\n",
      "25%           6.000000\n",
      "50%          10.000000\n",
      "75%          26.000000\n",
      "max      165702.000000\n",
      "Name: likes, dtype: float64\n",
      "\n",
      "\n",
      "count    172679.000000\n",
      "mean          9.995749\n",
      "std         200.923092\n",
      "min           1.000000\n",
      "25%           1.000000\n",
      "50%           1.000000\n",
      "75%           3.000000\n",
      "max       63473.000000\n",
      "Name: retweet_count, dtype: float64\n"
     ]
    }
   ],
   "source": [
    "print(outliers_likes[\"likes\"].describe())\n",
    "print(\"\\n\")\n",
    "print(outliers_retweets[\"retweet_count\"].describe())"
   ]
  },
  {
   "cell_type": "markdown",
   "metadata": {},
   "source": [
    "Observations:\n",
    "\n",
    "Likes:\n",
    "* The number of outliers decreased after using the 3x IQR factor, which means the bound have been tightened and fewer low outliers have been excluded .\n",
    "* The mean, median, and standard deviation suggest that many of the outliers are still relatively small, but there are a few extreme values (as indicated by the high max of 165,702).\n",
    "\n",
    "Retweets:\n",
    "* The retweet outliers remain unchanged with the 3x IQR factor, indicating that the distribution of retweets may not be as heavily skewed at the lower end. \n",
    "* The presence of very low outliers (min = 1) suggests that many entries are being flagged due to the distribution's natural skew."
   ]
  }
 ],
 "metadata": {
  "kernelspec": {
   "display_name": "base",
   "language": "python",
   "name": "python3"
  },
  "language_info": {
   "codemirror_mode": {
    "name": "ipython",
    "version": 3
   },
   "file_extension": ".py",
   "mimetype": "text/x-python",
   "name": "python",
   "nbconvert_exporter": "python",
   "pygments_lexer": "ipython3",
   "version": "3.12.4"
  }
 },
 "nbformat": 4,
 "nbformat_minor": 2
}
