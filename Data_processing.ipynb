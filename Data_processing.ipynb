{
 "cells": [
  {
   "cell_type": "code",
   "execution_count": 1,
   "metadata": {},
   "outputs": [
    {
     "ename": "SyntaxError",
     "evalue": "invalid syntax (2450241751.py, line 3)",
     "output_type": "error",
     "traceback": [
      "\u001b[0;36m  Cell \u001b[0;32mIn[1], line 3\u001b[0;36m\u001b[0m\n\u001b[0;31m    conda activate anaconda3\u001b[0m\n\u001b[0m          ^\u001b[0m\n\u001b[0;31mSyntaxError\u001b[0m\u001b[0;31m:\u001b[0m invalid syntax\n"
     ]
    }
   ],
   "source": [
    "import sys\n",
    "print(sys.executable)\n",
    "conda activate anaconda3\n",
    "pip install wordcloud\n"
   ]
  },
  {
   "cell_type": "code",
   "execution_count": 1,
   "metadata": {},
   "outputs": [
    {
     "ename": "ModuleNotFoundError",
     "evalue": "No module named 'wordcloud'",
     "output_type": "error",
     "traceback": [
      "\u001b[0;31m---------------------------------------------------------------------------\u001b[0m",
      "\u001b[0;31mModuleNotFoundError\u001b[0m                       Traceback (most recent call last)",
      "\u001b[0;32m<ipython-input-1-b9d0a1775ff0>\u001b[0m in \u001b[0;36m<module>\u001b[0;34m\u001b[0m\n\u001b[1;32m      5\u001b[0m \u001b[0;32mfrom\u001b[0m \u001b[0mcollections\u001b[0m \u001b[0;32mimport\u001b[0m \u001b[0mCounter\u001b[0m\u001b[0;34m\u001b[0m\u001b[0;34m\u001b[0m\u001b[0m\n\u001b[1;32m      6\u001b[0m \u001b[0;32mimport\u001b[0m \u001b[0mmatplotlib\u001b[0m\u001b[0;34m.\u001b[0m\u001b[0mpyplot\u001b[0m \u001b[0;32mas\u001b[0m \u001b[0mplt\u001b[0m\u001b[0;34m\u001b[0m\u001b[0;34m\u001b[0m\u001b[0m\n\u001b[0;32m----> 7\u001b[0;31m \u001b[0;32mfrom\u001b[0m \u001b[0mwordcloud\u001b[0m \u001b[0;32mimport\u001b[0m \u001b[0mWordCloud\u001b[0m\u001b[0;34m\u001b[0m\u001b[0;34m\u001b[0m\u001b[0m\n\u001b[0m",
      "\u001b[0;31mModuleNotFoundError\u001b[0m: No module named 'wordcloud'"
     ]
    }
   ],
   "source": [
    "import pandas as pd\n",
    "pd.set_option('display.max_columns', None)  # Show all columns\n",
    "pd.set_option('display.width', None)  # Adjust the width to display everything\n",
    "pd.set_option('display.max_colwidth', None)  # Show full column content\n",
    "from collections import Counter\n",
    "import matplotlib.pyplot as plt\n",
    "from wordcloud import WordCloud"
   ]
  },
  {
   "cell_type": "markdown",
   "metadata": {},
   "source": []
  },
  {
   "cell_type": "code",
   "execution_count": 4,
   "metadata": {},
   "outputs": [
    {
     "data": {
      "text/html": [
       "<div>\n",
       "<style scoped>\n",
       "    .dataframe tbody tr th:only-of-type {\n",
       "        vertical-align: middle;\n",
       "    }\n",
       "\n",
       "    .dataframe tbody tr th {\n",
       "        vertical-align: top;\n",
       "    }\n",
       "\n",
       "    .dataframe thead th {\n",
       "        text-align: right;\n",
       "    }\n",
       "</style>\n",
       "<table border=\"1\" class=\"dataframe\">\n",
       "  <thead>\n",
       "    <tr style=\"text-align: right;\">\n",
       "      <th></th>\n",
       "      <th>created_at</th>\n",
       "      <th>tweet_id</th>\n",
       "      <th>likes</th>\n",
       "      <th>retweet_count</th>\n",
       "      <th>source</th>\n",
       "      <th>user_id</th>\n",
       "      <th>user_join_date</th>\n",
       "      <th>user_followers_count</th>\n",
       "      <th>user_location</th>\n",
       "      <th>city</th>\n",
       "      <th>country</th>\n",
       "      <th>state</th>\n",
       "      <th>candidate</th>\n",
       "      <th>tweet_cleaned</th>\n",
       "    </tr>\n",
       "  </thead>\n",
       "  <tbody>\n",
       "    <tr>\n",
       "      <th>0</th>\n",
       "      <td>2020-10-15 00:00:02</td>\n",
       "      <td>1316529228091846912</td>\n",
       "      <td>2</td>\n",
       "      <td>1</td>\n",
       "      <td>twitter web app</td>\n",
       "      <td>8436472</td>\n",
       "      <td>2007-08-26 05:56:11</td>\n",
       "      <td>1185</td>\n",
       "      <td>portland</td>\n",
       "      <td>portland</td>\n",
       "      <td>united states</td>\n",
       "      <td>oregon</td>\n",
       "      <td>trump</td>\n",
       "      <td>#trump student used hear years ten years heard china 2019 15 dont know many asked many said sir dont know millions like 300 million um</td>\n",
       "    </tr>\n",
       "    <tr>\n",
       "      <th>1</th>\n",
       "      <td>2020-10-15 00:00:02</td>\n",
       "      <td>1316529227471237120</td>\n",
       "      <td>0</td>\n",
       "      <td>0</td>\n",
       "      <td>trumpytweeter</td>\n",
       "      <td>828355589206056960</td>\n",
       "      <td>2017-02-05 21:32:17</td>\n",
       "      <td>32</td>\n",
       "      <td>unkown</td>\n",
       "      <td>unkown</td>\n",
       "      <td>unkown</td>\n",
       "      <td>unkown</td>\n",
       "      <td>trump</td>\n",
       "      <td>2 hours since last tweet #trump maybe busy tremendously busy</td>\n",
       "    </tr>\n",
       "    <tr>\n",
       "      <th>2</th>\n",
       "      <td>2020-10-15 00:00:08</td>\n",
       "      <td>1316529252301451264</td>\n",
       "      <td>4</td>\n",
       "      <td>3</td>\n",
       "      <td>twitter for iphone</td>\n",
       "      <td>47413798</td>\n",
       "      <td>2009-06-15 19:05:35</td>\n",
       "      <td>5393</td>\n",
       "      <td>washington dc</td>\n",
       "      <td>washington</td>\n",
       "      <td>united states</td>\n",
       "      <td>district of columbia</td>\n",
       "      <td>trump</td>\n",
       "      <td>get tie get tie #trump rally #iowa</td>\n",
       "    </tr>\n",
       "    <tr>\n",
       "      <th>3</th>\n",
       "      <td>2020-10-15 00:00:17</td>\n",
       "      <td>1316529291052675072</td>\n",
       "      <td>2</td>\n",
       "      <td>0</td>\n",
       "      <td>twitter for android</td>\n",
       "      <td>1138416104</td>\n",
       "      <td>2013-02-01 01:37:38</td>\n",
       "      <td>2363</td>\n",
       "      <td>perris,california</td>\n",
       "      <td>unkown</td>\n",
       "      <td>united states</td>\n",
       "      <td>california</td>\n",
       "      <td>trump</td>\n",
       "      <td>clady62 15 minutes long time ago omarosa never represented black community #thereidout cried #trump begging job</td>\n",
       "    </tr>\n",
       "    <tr>\n",
       "      <th>4</th>\n",
       "      <td>2020-10-15 00:00:17</td>\n",
       "      <td>1316529289949569024</td>\n",
       "      <td>0</td>\n",
       "      <td>0</td>\n",
       "      <td>twitter for iphone</td>\n",
       "      <td>767401841030209536</td>\n",
       "      <td>2016-08-21 16:43:51</td>\n",
       "      <td>75</td>\n",
       "      <td>powell, tn</td>\n",
       "      <td>unkown</td>\n",
       "      <td>unkown</td>\n",
       "      <td>unkown</td>\n",
       "      <td>trump</td>\n",
       "      <td>richardmarx glad u got house dick#trump 2020</td>\n",
       "    </tr>\n",
       "  </tbody>\n",
       "</table>\n",
       "</div>"
      ],
      "text/plain": [
       "            created_at             tweet_id  likes  retweet_count  \\\n",
       "0  2020-10-15 00:00:02  1316529228091846912      2              1   \n",
       "1  2020-10-15 00:00:02  1316529227471237120      0              0   \n",
       "2  2020-10-15 00:00:08  1316529252301451264      4              3   \n",
       "3  2020-10-15 00:00:17  1316529291052675072      2              0   \n",
       "4  2020-10-15 00:00:17  1316529289949569024      0              0   \n",
       "\n",
       "                source             user_id       user_join_date  \\\n",
       "0      twitter web app             8436472  2007-08-26 05:56:11   \n",
       "1        trumpytweeter  828355589206056960  2017-02-05 21:32:17   \n",
       "2   twitter for iphone            47413798  2009-06-15 19:05:35   \n",
       "3  twitter for android          1138416104  2013-02-01 01:37:38   \n",
       "4   twitter for iphone  767401841030209536  2016-08-21 16:43:51   \n",
       "\n",
       "   user_followers_count      user_location        city        country  \\\n",
       "0                  1185           portland    portland  united states   \n",
       "1                    32             unkown      unkown         unkown   \n",
       "2                  5393      washington dc  washington  united states   \n",
       "3                  2363  perris,california      unkown  united states   \n",
       "4                    75         powell, tn      unkown         unkown   \n",
       "\n",
       "                  state candidate  \\\n",
       "0                oregon     trump   \n",
       "1                unkown     trump   \n",
       "2  district of columbia     trump   \n",
       "3            california     trump   \n",
       "4                unkown     trump   \n",
       "\n",
       "                                                                                                                            tweet_cleaned  \n",
       "0  #trump student used hear years ten years heard china 2019 15 dont know many asked many said sir dont know millions like 300 million um  \n",
       "1                                                                            2 hours since last tweet #trump maybe busy tremendously busy  \n",
       "2                                                                                                      get tie get tie #trump rally #iowa  \n",
       "3                         clady62 15 minutes long time ago omarosa never represented black community #thereidout cried #trump begging job  \n",
       "4                                                                                            richardmarx glad u got house dick#trump 2020  "
      ]
     },
     "execution_count": 4,
     "metadata": {},
     "output_type": "execute_result"
    }
   ],
   "source": [
    "df = pd.read_csv('/Users/pcfic/Documents/Circle/DataCircle_Twitter_Project/twitter_cleaned_data.csv')\n",
    "df.head()"
   ]
  },
  {
   "cell_type": "code",
   "execution_count": 5,
   "metadata": {},
   "outputs": [],
   "source": [
    "# Function to calculate word frequency for each candidate\n",
    "def  calculate_word_frequency(candidate):\n",
    "    candidate_tweets = df[df['candidate'] == candidate]['tweet_cleaned']\n",
    "    words = ' '.join(candidate_tweets).split()\n",
    "    words = [word.lstrip('#') for word in words]\n",
    "    word_freq = Counter(words)\n",
    "    return word_freq"
   ]
  },
  {
   "cell_type": "code",
   "execution_count": 8,
   "metadata": {},
   "outputs": [
    {
     "data": {
      "image/png": "[encoded data removed]",
      "text/plain": [
       "<Figure size 1008x432 with 2 Axes>"
      ]
     },
     "metadata": {
      "needs_background": "light"
     },
     "output_type": "display_data"
    }
   ],
   "source": [
    "# Calculate word frequency for each candidate\n",
    "trump_word_freq = calculate_word_frequency('trump')\n",
    "biden_word_freq = calculate_word_frequency('biden')\n",
    "\n",
    "trump_df = pd.DataFrame(trump_word_freq.items(), columns=['Word', 'Frequency']).sort_values(by='Frequency', ascending=False)\n",
    "biden_df = pd.DataFrame(biden_word_freq.items(), columns=['Word', 'Frequency']).sort_values(by='Frequency', ascending=False)\n",
    "\n",
    "plt.figure(figsize=(14, 6))\n",
    "\n",
    "# Trump word frequency\n",
    "plt.subplot(1, 2, 1)\n",
    "plt.bar(trump_df['Word'][:10], trump_df['Frequency'][:10], color='red')\n",
    "plt.title('Top 10 Word Frequency for Trump')\n",
    "plt.xticks(rotation=60)\n",
    "\n",
    "# Biden word frequency\n",
    "plt.subplot(1, 2, 2)\n",
    "plt.bar(biden_df['Word'][:10], biden_df['Frequency'][:10], color='blue')\n",
    "plt.title('Top 10 Word Frequency for Biden')\n",
    "plt.xticks(rotation=60)\n",
    "\n",
    "plt.tight_layout()\n",
    "plt.show()"
   ]
  },
  {
   "cell_type": "code",
   "execution_count": 12,
   "metadata": {},
   "outputs": [],
   "source": [
    "# Function to generate word cloud\n",
    "def create_wordcloud(words):\n",
    "    wordcloud = Wordcloud(max_font_size=200, max_words=200, background_color='white').generate(words)\n",
    "\n",
    "    plt.figure(1, figsize=(13, 13))\n",
    "    plt.imshow(wordcloud, interplation='bilinear')\n",
    "    plt.axis('off')\n",
    "    plt.show()"
   ]
  },
  {
   "cell_type": "code",
   "execution_count": 11,
   "metadata": {},
   "outputs": [
    {
     "ename": "NameError",
     "evalue": "name 'Wordcloud' is not defined",
     "output_type": "error",
     "traceback": [
      "\u001b[0;31m---------------------------------------------------------------------------\u001b[0m",
      "\u001b[0;31mNameError\u001b[0m                                 Traceback (most recent call last)",
      "\u001b[0;32m<ipython-input-11-7f9fb1d73609>\u001b[0m in \u001b[0;36m<module>\u001b[0;34m\u001b[0m\n\u001b[0;32m----> 1\u001b[0;31m \u001b[0mcreate_wordcloud\u001b[0m\u001b[0;34m(\u001b[0m\u001b[0mtrump_word_freq\u001b[0m\u001b[0;34m)\u001b[0m\u001b[0;34m\u001b[0m\u001b[0;34m\u001b[0m\u001b[0m\n\u001b[0m",
      "\u001b[0;32m<ipython-input-9-e01f88e6ffdc>\u001b[0m in \u001b[0;36mcreate_wordcloud\u001b[0;34m(words)\u001b[0m\n\u001b[1;32m      1\u001b[0m \u001b[0;31m# Function to generate word cloud\u001b[0m\u001b[0;34m\u001b[0m\u001b[0;34m\u001b[0m\u001b[0;34m\u001b[0m\u001b[0m\n\u001b[1;32m      2\u001b[0m \u001b[0;32mdef\u001b[0m \u001b[0mcreate_wordcloud\u001b[0m\u001b[0;34m(\u001b[0m\u001b[0mwords\u001b[0m\u001b[0;34m)\u001b[0m\u001b[0;34m:\u001b[0m\u001b[0;34m\u001b[0m\u001b[0;34m\u001b[0m\u001b[0m\n\u001b[0;32m----> 3\u001b[0;31m     \u001b[0mwordcloud\u001b[0m \u001b[0;34m=\u001b[0m \u001b[0mWordcloud\u001b[0m\u001b[0;34m(\u001b[0m\u001b[0mmax_font_size\u001b[0m\u001b[0;34m=\u001b[0m\u001b[0;36m200\u001b[0m\u001b[0;34m,\u001b[0m \u001b[0mmax_words\u001b[0m\u001b[0;34m=\u001b[0m\u001b[0;36m200\u001b[0m\u001b[0;34m,\u001b[0m \u001b[0mbackground_color\u001b[0m\u001b[0;34m=\u001b[0m\u001b[0;34m'white'\u001b[0m\u001b[0;34m)\u001b[0m\u001b[0;34m.\u001b[0m\u001b[0mgenerate\u001b[0m\u001b[0;34m(\u001b[0m\u001b[0mwords\u001b[0m\u001b[0;34m)\u001b[0m\u001b[0;34m\u001b[0m\u001b[0;34m\u001b[0m\u001b[0m\n\u001b[0m\u001b[1;32m      4\u001b[0m \u001b[0;34m\u001b[0m\u001b[0m\n\u001b[1;32m      5\u001b[0m     \u001b[0mplt\u001b[0m\u001b[0;34m.\u001b[0m\u001b[0mfigure\u001b[0m\u001b[0;34m(\u001b[0m\u001b[0;36m1\u001b[0m\u001b[0;34m,\u001b[0m \u001b[0mfigsize\u001b[0m\u001b[0;34m=\u001b[0m\u001b[0;34m(\u001b[0m\u001b[0;36m13\u001b[0m\u001b[0;34m,\u001b[0m \u001b[0;36m13\u001b[0m\u001b[0;34m)\u001b[0m\u001b[0;34m)\u001b[0m\u001b[0;34m\u001b[0m\u001b[0;34m\u001b[0m\u001b[0m\n",
      "\u001b[0;31mNameError\u001b[0m: name 'Wordcloud' is not defined"
     ]
    }
   ],
   "source": [
    "create_wordcloud(trump_word_freq)"
   ]
  }
 ],
 "metadata": {
  "kernelspec": {
   "display_name": "Python 3",
   "language": "python",
   "name": "python3"
  },
  "language_info": {
   "codemirror_mode": {
    "name": "ipython",
    "version": 3
   },
   "file_extension": ".py",
   "mimetype": "text/x-python",
   "name": "python",
   "nbconvert_exporter": "python",
   "pygments_lexer": "ipython3",
   "version": "3.8.5"
  }
 },
 "nbformat": 4,
 "nbformat_minor": 2
}
