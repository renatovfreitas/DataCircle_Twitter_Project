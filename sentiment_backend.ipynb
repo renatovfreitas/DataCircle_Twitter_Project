{
 "cells": [
  {
   "cell_type": "code",
   "execution_count": 1,
   "metadata": {},
   "outputs": [],
   "source": [
    "# Required libraries\n",
    "import pandas as pd\n",
    "pd.set_option('display.max_columns', None)  # Show all columns\n",
    "pd.set_option('display.width', None)  # Adjust the width to display everything\n",
    "pd.set_option('display.max_colwidth', None)  # Show full column content\n",
    "\n",
    "from textblob import TextBlob\n",
    "from wordcloud import WordCloud, STOPWORDS\n",
    "from collections import Counter\n",
    "import emoji\n",
    "from datetime import datetime"
   ]
  },
  {
   "cell_type": "code",
   "execution_count": 2,
   "metadata": {},
   "outputs": [],
   "source": [
    "# Load data\n",
    "twitter_df = pd.read_csv(r\"C:\\Users\\User\\iCloudDrive\\Cursos\\Data Circle\\DataCircle_Twitter_Project\\twitter_cleaned_data.csv\", lineterminator='\\n')"
   ]
  },
  {
   "cell_type": "code",
   "execution_count": 46,
   "metadata": {},
   "outputs": [],
   "source": [
    "# Clean column names\n",
    "twitter_df.columns = twitter_df.columns.str.replace('\\r', '')\n",
    "\n",
    "twitter_df['country'] = twitter_df['country'].str.replace('\\r', '')\n",
    "\n",
    "# Convert created_at to datetime\n",
    "twitter_df['created_at'] = pd.to_datetime(twitter_df['created_at'], errors='coerce')\n",
    "\n",
    "# Create a column for 'created_at' with date only (without time info)\n",
    "twitter_df[\"created_at_date\"] = twitter_df[\"created_at\"].dt.date\n",
    "\n",
    "# Convert to datetime\n",
    "twitter_df[\"created_at_date\"] = pd.to_datetime(twitter_df[\"created_at_date\"])"
   ]
  },
  {
   "cell_type": "code",
   "execution_count": 20,
   "metadata": {},
   "outputs": [],
   "source": [
    "# Extract hashtags\n",
    "twitter_df['hashtag'] = twitter_df['tweet'].str.findall(r'(#\\w+)')\n",
    "\n",
    "# Convert the list of hashtags to a string\n",
    "twitter_df['hashtag'] = twitter_df['hashtag'].apply(lambda x: ', '.join(x))"
   ]
  },
  {
   "cell_type": "code",
   "execution_count": 4,
   "metadata": {},
   "outputs": [],
   "source": [
    "# Sentiment polarity function\n",
    "def get_polarity(text):\n",
    "    analysis = TextBlob(text)\n",
    "    polarity = analysis.sentiment.polarity\n",
    "    return polarity\n",
    "\n",
    "# Apply sentiment polarity function to the DataFrame\n",
    "twitter_df['polarity'] = twitter_df['tweet_cleaned'].apply(get_polarity)"
   ]
  },
  {
   "cell_type": "code",
   "execution_count": 6,
   "metadata": {},
   "outputs": [],
   "source": [
    "# Create a column for Sentiment analysis\n",
    "twitter_df['sentiment'] = twitter_df['polarity'].apply(lambda i: 'positive' if i > 0 else ('neutral' if i == 0 else 'negative'))"
   ]
  },
  {
   "cell_type": "code",
   "execution_count": 47,
   "metadata": {},
   "outputs": [
    {
     "data": {
      "text/html": [
       "<div>\n",
       "<style scoped>\n",
       "    .dataframe tbody tr th:only-of-type {\n",
       "        vertical-align: middle;\n",
       "    }\n",
       "\n",
       "    .dataframe tbody tr th {\n",
       "        vertical-align: top;\n",
       "    }\n",
       "\n",
       "    .dataframe thead th {\n",
       "        text-align: right;\n",
       "    }\n",
       "</style>\n",
       "<table border=\"1\" class=\"dataframe\">\n",
       "  <thead>\n",
       "    <tr style=\"text-align: right;\">\n",
       "      <th></th>\n",
       "      <th>created_at</th>\n",
       "      <th>tweet_id</th>\n",
       "      <th>tweet</th>\n",
       "      <th>likes</th>\n",
       "      <th>retweet_count</th>\n",
       "      <th>source</th>\n",
       "      <th>user_id</th>\n",
       "      <th>user_join_date</th>\n",
       "      <th>user_followers_count</th>\n",
       "      <th>user_location</th>\n",
       "      <th>city</th>\n",
       "      <th>state</th>\n",
       "      <th>candidate</th>\n",
       "      <th>tweet_cleaned</th>\n",
       "      <th>country</th>\n",
       "      <th>polarity</th>\n",
       "      <th>sentiment</th>\n",
       "      <th>hashtag</th>\n",
       "      <th>created_at_date</th>\n",
       "    </tr>\n",
       "  </thead>\n",
       "  <tbody>\n",
       "    <tr>\n",
       "      <th>0</th>\n",
       "      <td>2020-10-15 00:00:02</td>\n",
       "      <td>1316529228091846912</td>\n",
       "      <td>#Trump: As a student I used to hear for years, for ten years, I heard China! In 2019! And we have 1.5 and they don't know how many we have and I asked them how many do we have and they said 'sir we don't know.' But we have millions. Like 300 million.\\n\\nUm. What?</td>\n",
       "      <td>2</td>\n",
       "      <td>1</td>\n",
       "      <td>twitter web app</td>\n",
       "      <td>8436472</td>\n",
       "      <td>2007-08-26 05:56:11</td>\n",
       "      <td>1185</td>\n",
       "      <td>portland</td>\n",
       "      <td>portland</td>\n",
       "      <td>oregon</td>\n",
       "      <td>trump</td>\n",
       "      <td>#trump student used hear years ten years heard china 2019 15 dont know many asked many said sir dont know millions like 300 million um</td>\n",
       "      <td>united states</td>\n",
       "      <td>0.333333</td>\n",
       "      <td>positive</td>\n",
       "      <td>#Trump</td>\n",
       "      <td>2020-10-15</td>\n",
       "    </tr>\n",
       "    <tr>\n",
       "      <th>1</th>\n",
       "      <td>2020-10-15 00:00:02</td>\n",
       "      <td>1316529227471237120</td>\n",
       "      <td>2 hours since last tweet from #Trump! Maybe he is VERY busy. Tremendously busy.</td>\n",
       "      <td>0</td>\n",
       "      <td>0</td>\n",
       "      <td>trumpytweeter</td>\n",
       "      <td>828355589206056960</td>\n",
       "      <td>2017-02-05 21:32:17</td>\n",
       "      <td>32</td>\n",
       "      <td>unknown</td>\n",
       "      <td>unknown</td>\n",
       "      <td>unknown</td>\n",
       "      <td>trump</td>\n",
       "      <td>2 hours since last tweet #trump maybe busy tremendously busy</td>\n",
       "      <td>unknown</td>\n",
       "      <td>0.066667</td>\n",
       "      <td>positive</td>\n",
       "      <td>#Trump</td>\n",
       "      <td>2020-10-15</td>\n",
       "    </tr>\n",
       "    <tr>\n",
       "      <th>2</th>\n",
       "      <td>2020-10-15 00:00:08</td>\n",
       "      <td>1316529252301451264</td>\n",
       "      <td>You get a tie! And you get a tie! #Trump ‘s rally #Iowa https://t.co/jJalUUmh5D</td>\n",
       "      <td>4</td>\n",
       "      <td>3</td>\n",
       "      <td>twitter for iphone</td>\n",
       "      <td>47413798</td>\n",
       "      <td>2009-06-15 19:05:35</td>\n",
       "      <td>5393</td>\n",
       "      <td>washington dc</td>\n",
       "      <td>washington</td>\n",
       "      <td>district of columbia</td>\n",
       "      <td>trump</td>\n",
       "      <td>get tie get tie #trump rally #iowa</td>\n",
       "      <td>united states</td>\n",
       "      <td>0.000000</td>\n",
       "      <td>neutral</td>\n",
       "      <td>#Trump, #Iowa</td>\n",
       "      <td>2020-10-15</td>\n",
       "    </tr>\n",
       "    <tr>\n",
       "      <th>3</th>\n",
       "      <td>2020-10-15 00:00:17</td>\n",
       "      <td>1316529291052675072</td>\n",
       "      <td>@CLady62 Her 15 minutes were over long time ago. Omarosa never represented the black community! #TheReidOut \\n\\nShe cried to #Trump begging for a job!</td>\n",
       "      <td>2</td>\n",
       "      <td>0</td>\n",
       "      <td>twitter for android</td>\n",
       "      <td>1138416104</td>\n",
       "      <td>2013-02-01 01:37:38</td>\n",
       "      <td>2363</td>\n",
       "      <td>perriscalifornia</td>\n",
       "      <td>unknown</td>\n",
       "      <td>california</td>\n",
       "      <td>trump</td>\n",
       "      <td>clady62 15 minutes long time ago omarosa never represented black community #thereidout cried #trump begging job</td>\n",
       "      <td>united states</td>\n",
       "      <td>-0.108333</td>\n",
       "      <td>negative</td>\n",
       "      <td>#TheReidOut, #Trump</td>\n",
       "      <td>2020-10-15</td>\n",
       "    </tr>\n",
       "    <tr>\n",
       "      <th>4</th>\n",
       "      <td>2020-10-15 00:00:17</td>\n",
       "      <td>1316529289949569024</td>\n",
       "      <td>@richardmarx Glad u got out of the house! DICK!!#trump 2020💪🏽🇺🇸🇺🇸</td>\n",
       "      <td>0</td>\n",
       "      <td>0</td>\n",
       "      <td>twitter for iphone</td>\n",
       "      <td>767401841030209536</td>\n",
       "      <td>2016-08-21 16:43:51</td>\n",
       "      <td>75</td>\n",
       "      <td>powell tn</td>\n",
       "      <td>unknown</td>\n",
       "      <td>unknown</td>\n",
       "      <td>trump</td>\n",
       "      <td>richardmarx glad u got house dick#trump 2020</td>\n",
       "      <td>unknown</td>\n",
       "      <td>0.500000</td>\n",
       "      <td>positive</td>\n",
       "      <td>#trump</td>\n",
       "      <td>2020-10-15</td>\n",
       "    </tr>\n",
       "  </tbody>\n",
       "</table>\n",
       "</div>"
      ],
      "text/plain": [
       "           created_at             tweet_id  \\\n",
       "0 2020-10-15 00:00:02  1316529228091846912   \n",
       "1 2020-10-15 00:00:02  1316529227471237120   \n",
       "2 2020-10-15 00:00:08  1316529252301451264   \n",
       "3 2020-10-15 00:00:17  1316529291052675072   \n",
       "4 2020-10-15 00:00:17  1316529289949569024   \n",
       "\n",
       "                                                                                                                                                                                                                                                                     tweet  \\\n",
       "0  #Trump: As a student I used to hear for years, for ten years, I heard China! In 2019! And we have 1.5 and they don't know how many we have and I asked them how many do we have and they said 'sir we don't know.' But we have millions. Like 300 million.\\n\\nUm. What?   \n",
       "1                                                                                                                                                                                          2 hours since last tweet from #Trump! Maybe he is VERY busy. Tremendously busy.   \n",
       "2                                                                                                                                                                                          You get a tie! And you get a tie! #Trump ‘s rally #Iowa https://t.co/jJalUUmh5D   \n",
       "3                                                                                                                   @CLady62 Her 15 minutes were over long time ago. Omarosa never represented the black community! #TheReidOut \\n\\nShe cried to #Trump begging for a job!   \n",
       "4                                                                                                                                                                                                        @richardmarx Glad u got out of the house! DICK!!#trump 2020💪🏽🇺🇸🇺🇸   \n",
       "\n",
       "   likes  retweet_count               source             user_id  \\\n",
       "0      2              1      twitter web app             8436472   \n",
       "1      0              0        trumpytweeter  828355589206056960   \n",
       "2      4              3   twitter for iphone            47413798   \n",
       "3      2              0  twitter for android          1138416104   \n",
       "4      0              0   twitter for iphone  767401841030209536   \n",
       "\n",
       "        user_join_date  user_followers_count     user_location        city  \\\n",
       "0  2007-08-26 05:56:11                  1185          portland    portland   \n",
       "1  2017-02-05 21:32:17                    32           unknown     unknown   \n",
       "2  2009-06-15 19:05:35                  5393     washington dc  washington   \n",
       "3  2013-02-01 01:37:38                  2363  perriscalifornia     unknown   \n",
       "4  2016-08-21 16:43:51                    75         powell tn     unknown   \n",
       "\n",
       "                  state candidate  \\\n",
       "0                oregon     trump   \n",
       "1               unknown     trump   \n",
       "2  district of columbia     trump   \n",
       "3            california     trump   \n",
       "4               unknown     trump   \n",
       "\n",
       "                                                                                                                            tweet_cleaned  \\\n",
       "0  #trump student used hear years ten years heard china 2019 15 dont know many asked many said sir dont know millions like 300 million um   \n",
       "1                                                                            2 hours since last tweet #trump maybe busy tremendously busy   \n",
       "2                                                                                                      get tie get tie #trump rally #iowa   \n",
       "3                         clady62 15 minutes long time ago omarosa never represented black community #thereidout cried #trump begging job   \n",
       "4                                                                                            richardmarx glad u got house dick#trump 2020   \n",
       "\n",
       "         country  polarity sentiment              hashtag created_at_date  \n",
       "0  united states  0.333333  positive               #Trump      2020-10-15  \n",
       "1        unknown  0.066667  positive               #Trump      2020-10-15  \n",
       "2  united states  0.000000   neutral        #Trump, #Iowa      2020-10-15  \n",
       "3  united states -0.108333  negative  #TheReidOut, #Trump      2020-10-15  \n",
       "4        unknown  0.500000  positive               #trump      2020-10-15  "
      ]
     },
     "execution_count": 47,
     "metadata": {},
     "output_type": "execute_result"
    }
   ],
   "source": [
    "twitter_df.head(5)"
   ]
  },
  {
   "cell_type": "code",
   "execution_count": 48,
   "metadata": {},
   "outputs": [],
   "source": [
    "# Create CSV for sentiment analysis\n",
    "twitter_df.to_csv('twitter_sentiment.csv', index=False)"
   ]
  },
  {
   "cell_type": "code",
   "execution_count": 76,
   "metadata": {},
   "outputs": [],
   "source": [
    "# WordCloud Function\n",
    "def generate_wordcloud(df, sentiment):\n",
    "        # Get the text to be used\n",
    "        text = ' '.join(df[df['sentiment'] == sentiment]['tweet_cleaned'])\n",
    "\n",
    "        # Add non important words as stopwords\n",
    "        stopwords = STOPWORDS.union({\n",
    "                'amp', 'biden', 'joebiden', 'joe', 'trump', 'realdonaldtrump', \n",
    "                'donaldtrump', 'trumps', 'vote', 'people', 'president', 'kamalaharri', 'u', 'kamalaharris', 'say', 'us', 'one', 'gop',\n",
    "                'donald', 'know', 'thats', 'america', 'election2020', 'election', 'bidenharris', 'bidenharris2020', 'trump2020'\n",
    "                })\n",
    "        \n",
    "        # Generate the word cloud\n",
    "        wordcloud = WordCloud(stopwords=stopwords).generate(text)\n",
    "        \n",
    "        # Extract word frequencies\n",
    "        word_freq = wordcloud.words_\n",
    "        \n",
    "        # Convert to DataFrame\n",
    "        df = pd.DataFrame(list(word_freq.items()), columns=['Word', 'Frequency'])\n",
    "        \n",
    "        return df"
   ]
  },
  {
   "cell_type": "code",
   "execution_count": 77,
   "metadata": {},
   "outputs": [],
   "source": [
    "# Hashtag WordCloud Function\n",
    "def generate_hashtag_wordcloud(df, sentiment):\n",
    "        # Get the text to be used and convert it to lowercase\n",
    "        text = ' '.join(df[df['sentiment'] == sentiment]['hashtag']).lower()\n",
    "\n",
    "        # Add 'amp', 'biden', and 'trump' as stopwords\n",
    "        stopwords = {word.lower() for word in STOPWORDS.union({\n",
    "                'amp', 'biden', 'joebiden', 'joe', 'trump', 'realdonaldtrump', \n",
    "                'donaldtrump', 'trumps', 'vote', 'people', 'president', 'kamalaharri', 'u', 'kamalaharris', 'say', 'us', 'one', 'gop',\n",
    "                'donald', 'know', 'thats', 'america', 'election2020', 'election', 'bidenharris', 'bidenharris2020', 'bidenharis2020', \n",
    "                'trump2020', 'biden2020', 'elections2020', 'obama'\n",
    "                })}\n",
    "        \n",
    "        # Generate the word cloud\n",
    "        wordcloud = WordCloud(stopwords=stopwords).generate(text)\n",
    "        \n",
    "        # Extract word frequencies\n",
    "        word_freq = wordcloud.words_\n",
    "        \n",
    "        # Convert to DataFrame\n",
    "        df = pd.DataFrame(list(word_freq.items()), columns=['Word', 'Frequency'])\n",
    "        \n",
    "        return df"
   ]
  },
  {
   "cell_type": "code",
   "execution_count": null,
   "metadata": {},
   "outputs": [],
   "source": [
    "# Create a df for each candidate\n",
    "biden_df = twitter_df.loc[twitter_df['candidate']=='biden']\n",
    "trump_df = twitter_df.loc[twitter_df['candidate']=='trump']"
   ]
  },
  {
   "cell_type": "code",
   "execution_count": 78,
   "metadata": {},
   "outputs": [],
   "source": [
    "# Apply wordcloud function for Whole Period\n",
    "biden_positive_wordcloud_df = generate_wordcloud(biden_df, 'positive')\n",
    "biden_negative_wordcloud_df = generate_wordcloud(biden_df, 'negative')\n",
    "trump_positive_wordcloud_df = generate_wordcloud(trump_df, 'positive')\n",
    "trump_negative_wordcloud_df = generate_wordcloud(trump_df, 'negative')"
   ]
  },
  {
   "cell_type": "code",
   "execution_count": 79,
   "metadata": {},
   "outputs": [],
   "source": [
    "# Create CSV for WordCloud Whole Period\n",
    "biden_positive_wordcloud_df.to_csv('biden_positive_wordcloud.csv', index=False)\n",
    "biden_negative_wordcloud_df.to_csv('biden_negative_wordcloud.csv', index=False)\n",
    "trump_positive_wordcloud_df.to_csv('trump_positive_wordcloud.csv', index=False)\n",
    "trump_negative_wordcloud_df.to_csv('trump_negative_wordcloud.csv', index=False)"
   ]
  },
  {
   "cell_type": "code",
   "execution_count": 80,
   "metadata": {},
   "outputs": [],
   "source": [
    "# Apply Hashtag wordcloud function for Whole Period\n",
    "biden_hashtag_positive_wordcloud_df = generate_wordcloud(biden_df, 'positive')\n",
    "biden_hashtag_negative_wordcloud_df = generate_wordcloud(biden_df, 'negative')\n",
    "trump_hashtag_positive_wordcloud_df = generate_wordcloud(trump_df, 'positive')\n",
    "trump_hashtag_negative_wordcloud_df = generate_wordcloud(trump_df, 'negative')"
   ]
  },
  {
   "cell_type": "code",
   "execution_count": 81,
   "metadata": {},
   "outputs": [],
   "source": [
    "# Create CSV for Hashtag WordCloud for Whole Period\n",
    "biden_hashtag_positive_wordcloud_df.to_csv('biden_hashtag_positive_wordcloud.csv', index=False)\n",
    "biden_hashtag_negative_wordcloud_df.to_csv('biden_hashtag_negative_wordcloud.csv', index=False)\n",
    "trump_hashtag_positive_wordcloud_df.to_csv('trump_hashtag_positive_wordcloud.csv', index=False)\n",
    "trump_hashtag_negative_wordcloud_df.to_csv('trump_hashtag_negative_wordcloud.csv', index=False)"
   ]
  },
  {
   "cell_type": "code",
   "execution_count": 82,
   "metadata": {},
   "outputs": [],
   "source": [
    "# Filter the dataset\n",
    "biden_16_10_df = biden_df.loc[twitter_df[\"created_at_date\"]==\"2020-10-16\"]\n",
    "trump_16_10_df = trump_df.loc[twitter_df[\"created_at_date\"]==\"2020-10-16\"]"
   ]
  },
  {
   "cell_type": "code",
   "execution_count": 83,
   "metadata": {},
   "outputs": [],
   "source": [
    "# Apply wordcloud function for 16/10/20\n",
    "biden_16_10_positive_wordcloud_df = generate_wordcloud(biden_16_10_df, 'positive')\n",
    "biden_16_10_negative_wordcloud_df = generate_wordcloud(biden_16_10_df, 'negative')\n",
    "trump_16_10_positive_wordcloud_df = generate_wordcloud(trump_16_10_df, 'positive')\n",
    "trump_16_10_negative_wordcloud_df = generate_wordcloud(trump_16_10_df, 'negative')"
   ]
  },
  {
   "cell_type": "code",
   "execution_count": 84,
   "metadata": {},
   "outputs": [],
   "source": [
    "# Create CSV for WordCloud for 16/10/20\n",
    "biden_16_10_positive_wordcloud_df.to_csv('biden_16_10_positive_wordcloud.csv', index=False)\n",
    "biden_16_10_negative_wordcloud_df.to_csv('biden_16_10_negative_wordcloud.csv', index=False)\n",
    "trump_16_10_positive_wordcloud_df.to_csv('trump_16_10_positive_wordcloud.csv', index=False)\n",
    "trump_16_10_negative_wordcloud_df.to_csv('trump_16_10_negative_wordcloud.csv', index=False)"
   ]
  },
  {
   "cell_type": "code",
   "execution_count": 85,
   "metadata": {},
   "outputs": [],
   "source": [
    "# Apply Hashtag wordcloud function for 16/10/20\n",
    "biden_16_10_hashtag_positive_wordcloud_df = generate_hashtag_wordcloud(biden_16_10_df, 'positive')\n",
    "biden_16_10_hashtag_negative_wordcloud_df = generate_hashtag_wordcloud(biden_16_10_df, 'negative')\n",
    "trump_16_10_hashtag_positive_wordcloud_df = generate_hashtag_wordcloud(trump_16_10_df, 'positive')\n",
    "trump_16_10_hashtag_negative_wordcloud_df = generate_hashtag_wordcloud(trump_16_10_df, 'negative')"
   ]
  },
  {
   "cell_type": "code",
   "execution_count": 86,
   "metadata": {},
   "outputs": [],
   "source": [
    "# Create CSV for Hashtag WordCloud for 16/10/20\n",
    "biden_16_10_hashtag_positive_wordcloud_df.to_csv('biden_16_10_hashtag_positive_wordcloud.csv', index=False)\n",
    "biden_16_10_hashtag_negative_wordcloud_df.to_csv('biden_16_10_hashtag_negative_wordcloud.csv', index=False)\n",
    "trump_16_10_hashtag_positive_wordcloud_df.to_csv('trump_16_10_hashtag_positive_wordcloud.csv', index=False)\n",
    "trump_16_10_hashtag_negative_wordcloud_df.to_csv('trump_16_10_hashtag_negative_wordcloud.csv', index=False)"
   ]
  },
  {
   "cell_type": "code",
   "execution_count": 87,
   "metadata": {},
   "outputs": [],
   "source": [
    "# Filter the dataset\n",
    "biden_23_10_df = biden_df.loc[biden_df[\"created_at_date\"]==\"2020-10-23\"]\n",
    "trump_23_10_df = trump_df.loc[trump_df[\"created_at_date\"]==\"2020-10-23\"]"
   ]
  },
  {
   "cell_type": "code",
   "execution_count": 88,
   "metadata": {},
   "outputs": [],
   "source": [
    "# Apply wordcloud function for 23/10/20\n",
    "biden_23_10_positive_wordcloud_df = generate_wordcloud(biden_23_10_df, 'positive')\n",
    "biden_23_10_negative_wordcloud_df = generate_wordcloud(biden_23_10_df, 'negative')\n",
    "trump_23_10_positive_wordcloud_df = generate_wordcloud(trump_23_10_df, 'positive')\n",
    "trump_23_10_negative_wordcloud_df = generate_wordcloud(trump_23_10_df, 'negative')"
   ]
  },
  {
   "cell_type": "code",
   "execution_count": 89,
   "metadata": {},
   "outputs": [],
   "source": [
    "# Create CSV for WordCloud for 23/10/20\n",
    "biden_23_10_positive_wordcloud_df.to_csv('biden_23_10_positive_wordcloud.csv', index=False)\n",
    "biden_23_10_negative_wordcloud_df.to_csv('biden_23_10_negative_wordcloud.csv', index=False)\n",
    "trump_23_10_positive_wordcloud_df.to_csv('trump_23_10_positive_wordcloud.csv', index=False)\n",
    "trump_23_10_negative_wordcloud_df.to_csv('trump_23_10_negative_wordcloud.csv', index=False)"
   ]
  },
  {
   "cell_type": "code",
   "execution_count": 90,
   "metadata": {},
   "outputs": [],
   "source": [
    "# Apply Hashtag wordcloud function for for 23/10/20\n",
    "biden_23_10_hashtag_positive_wordcloud_df = generate_hashtag_wordcloud(biden_23_10_df, 'positive')\n",
    "biden_23_10_hashtag_negative_wordcloud_df = generate_hashtag_wordcloud(biden_23_10_df, 'negative')\n",
    "trump_23_10_hashtag_positive_wordcloud_df = generate_hashtag_wordcloud(trump_23_10_df, 'positive')\n",
    "trump_23_10_hashtag_negative_wordcloud_df = generate_hashtag_wordcloud(trump_23_10_df, 'negative')"
   ]
  },
  {
   "cell_type": "code",
   "execution_count": 91,
   "metadata": {},
   "outputs": [],
   "source": [
    "# Create CSV for Hashtag WordCloud for 23/10/20\n",
    "biden_23_10_hashtag_positive_wordcloud_df.to_csv('biden_23_10_hashtag_positive_wordcloud.csv', index=False)\n",
    "biden_23_10_hashtag_negative_wordcloud_df.to_csv('biden_23_10_hashtag_negative_wordcloud.csv', index=False)\n",
    "trump_23_10_hashtag_positive_wordcloud_df.to_csv('trump_23_10_hashtag_positive_wordcloud.csv', index=False)\n",
    "trump_23_10_hashtag_negative_wordcloud_df.to_csv('trump_23_10_hashtag_negative_wordcloud.csv', index=False)"
   ]
  },
  {
   "cell_type": "code",
   "execution_count": 92,
   "metadata": {},
   "outputs": [],
   "source": [
    "# Filter the dataset\n",
    "biden_03_11_df = biden_df.loc[biden_df[\"created_at_date\"]==\"2020-11-03\"]\n",
    "trump_03_11_df = trump_df.loc[trump_df[\"created_at_date\"]==\"2020-11-03\"]"
   ]
  },
  {
   "cell_type": "code",
   "execution_count": 93,
   "metadata": {},
   "outputs": [],
   "source": [
    "# Apply wordcloud function for 03/11/20\n",
    "biden_03_11_positive_wordcloud_df = generate_wordcloud(biden_03_11_df, 'positive')\n",
    "biden_03_11_negative_wordcloud_df = generate_wordcloud(biden_03_11_df, 'negative')\n",
    "trump_03_11_positive_wordcloud_df = generate_wordcloud(trump_03_11_df, 'positive')\n",
    "trump_03_11_negative_wordcloud_df = generate_wordcloud(trump_03_11_df, 'negative')"
   ]
  },
  {
   "cell_type": "code",
   "execution_count": 94,
   "metadata": {},
   "outputs": [],
   "source": [
    "# Create CSV for WordCloud for 03/11/20\n",
    "biden_03_11_positive_wordcloud_df.to_csv('biden_03_11_positive_wordcloud.csv', index=False)\n",
    "biden_03_11_negative_wordcloud_df.to_csv('biden_03_11_negative_wordcloud.csv', index=False)\n",
    "trump_03_11_positive_wordcloud_df.to_csv('trump_03_11_positive_wordcloud.csv', index=False)\n",
    "trump_03_11_negative_wordcloud_df.to_csv('trump_03_11_negative_wordcloud.csv', index=False)"
   ]
  },
  {
   "cell_type": "code",
   "execution_count": 95,
   "metadata": {},
   "outputs": [],
   "source": [
    "# Apply Hashtag wordcloud function for 03/11/20\n",
    "biden_03_11_hashtag_positive_wordcloud_df = generate_hashtag_wordcloud(biden_03_11_df, 'positive')\n",
    "biden_03_11_hashtag_negative_wordcloud_df = generate_hashtag_wordcloud(biden_03_11_df, 'negative')\n",
    "trump_03_11_hashtag_positive_wordcloud_df = generate_hashtag_wordcloud(trump_03_11_df, 'positive')\n",
    "trump_03_11_hashtag_negative_wordcloud_df = generate_hashtag_wordcloud(trump_03_11_df, 'negative')"
   ]
  },
  {
   "cell_type": "code",
   "execution_count": 96,
   "metadata": {},
   "outputs": [],
   "source": [
    "# Create CSV for Hashtag WordCloud for 03/11/20\n",
    "biden_03_11_hashtag_positive_wordcloud_df.to_csv('biden_03_11_hashtag_positive_wordcloud.csv', index=False)\n",
    "biden_03_11_hashtag_negative_wordcloud_df.to_csv('biden_03_11_hashtag_negative_wordcloud.csv', index=False)\n",
    "trump_03_11_hashtag_positive_wordcloud_df.to_csv('trump_03_11_hashtag_positive_wordcloud.csv', index=False)\n",
    "trump_03_11_hashtag_negative_wordcloud_df.to_csv('trump_03_11_hashtag_negative_wordcloud.csv', index=False)"
   ]
  },
  {
   "cell_type": "code",
   "execution_count": 97,
   "metadata": {},
   "outputs": [],
   "source": [
    "# Biden's Polarity Sentiment means over time\n",
    "biden_sentiment_means = biden_df.groupby('created_at_date')['polarity'].mean()\n",
    "\n",
    "# Trump's Polarity Sentiment means over time\n",
    "trump_sentiment_means = trump_df.groupby('created_at_date')['polarity'].mean()\n",
    "\n",
    "# Convert trumps daily means to a dataframe\n",
    "trump_daily_means_df = pd.DataFrame(trump_sentiment_means).reset_index()\n",
    "\n",
    "# Convert Bidens daily means to a dataframe\n",
    "biden_daily_means_df = pd.DataFrame(biden_sentiment_means).reset_index()"
   ]
  },
  {
   "cell_type": "code",
   "execution_count": null,
   "metadata": {},
   "outputs": [],
   "source": [
    "# Get the date of the min polarity mean for each candidate\n",
    "biden_min_polarity_mean_date = biden_daily_means_df.loc[biden_daily_means_df[\"polarity\"].idxmin(), \"created_at_date\"]\n",
    "trump_min_polarity_mean_date = trump_daily_means_df.loc[trump_daily_means_df[\"polarity\"].idxmin(), \"created_at_date\"]"
   ]
  },
  {
   "cell_type": "code",
   "execution_count": 105,
   "metadata": {},
   "outputs": [],
   "source": [
    "# Filter the dataset to get the rows of the min polarity mean for each candidate\n",
    "biden_min_pol_date_df = biden_df.loc[(biden_df[\"created_at_date\"]==biden_min_polarity_mean_date)]\n",
    "trump_min_pol_date_df = trump_df.loc[(trump_df[\"created_at_date\"]==trump_min_polarity_mean_date)]"
   ]
  },
  {
   "cell_type": "code",
   "execution_count": 106,
   "metadata": {},
   "outputs": [],
   "source": [
    "# Apply wordcloud function for the date of the min polarity mean for each candidate\n",
    "biden_min_pol_date_negative_wordcloud_df = generate_wordcloud(biden_min_pol_date_df, 'negative')\n",
    "trump_min_pol_date_negative_wordcloud_df = generate_wordcloud(trump_min_pol_date_df, 'negative')"
   ]
  },
  {
   "cell_type": "code",
   "execution_count": 107,
   "metadata": {},
   "outputs": [],
   "source": [
    "# Create CSV for WordCloud for the date of the min polarity mean for each candidate\n",
    "biden_min_pol_date_negative_wordcloud_df.to_csv('biden_min_pol_date_negative_wordcloud.csv', index=False)\n",
    "trump_min_pol_date_negative_wordcloud_df.to_csv('trump_min_pol_date_negative_wordcloud.csv', index=False)"
   ]
  },
  {
   "cell_type": "code",
   "execution_count": 108,
   "metadata": {},
   "outputs": [],
   "source": [
    "# Apply Hashtag wordcloud function for the date of the min polarity mean for each candidate\n",
    "biden_min_pol_date_hashtag_negative_wordcloud_df = generate_hashtag_wordcloud(biden_min_pol_date_df, 'negative')\n",
    "trump_min_pol_date_hashtag_negative_wordcloud_df = generate_hashtag_wordcloud(trump_min_pol_date_df, 'negative')"
   ]
  },
  {
   "cell_type": "code",
   "execution_count": 109,
   "metadata": {},
   "outputs": [],
   "source": [
    "# Create CSV for Hashtag WordCloud for the date of the min polarity mean for each candidate\n",
    "biden_min_pol_date_hashtag_negative_wordcloud_df.to_csv('biden_min_pol_date_negative_hashtag_wordcloud.csv', index=False)\n",
    "trump_min_pol_date_hashtag_negative_wordcloud_df.to_csv('trump_min_pol_date_negative_hashtag_wordcloud.csv', index=False)"
   ]
  },
  {
   "cell_type": "markdown",
   "metadata": {},
   "source": [
    "# Emoji "
   ]
  },
  {
   "cell_type": "code",
   "execution_count": 38,
   "metadata": {},
   "outputs": [],
   "source": [
    "# Biden Emoji creation\n",
    "biden_emojis_list = []\n",
    "biden_recognized_emojis = set(emoji.EMOJI_DATA.keys())\n",
    "\n",
    "for tweet in biden_df['tweet']:\n",
    "    for char in tweet:\n",
    "        if char in biden_recognized_emojis:\n",
    "            biden_emojis_list.append(char)\n",
    "\n",
    "\n",
    "# Trump Emoji creation\n",
    "trump_emojis_list = []\n",
    "trump_recognized_emojis = set(emoji.EMOJI_DATA.keys())\n",
    "\n",
    "for tweet in trump_df['tweet']:\n",
    "    for char in tweet:\n",
    "        if char in trump_recognized_emojis:\n",
    "            trump_emojis_list.append(char)"
   ]
  },
  {
   "cell_type": "code",
   "execution_count": 43,
   "metadata": {},
   "outputs": [],
   "source": [
    "# Frequency count of emojis\n",
    "\n",
    "# Biden\n",
    "biden_emoji_counts = Counter(biden_emojis_list)\n",
    "biden_top_emojis = biden_emoji_counts.most_common(10)\n",
    "\n",
    "# Trump\n",
    "trump_emoji_counts = Counter(trump_emojis_list)\n",
    "trump_top_emojis = trump_emoji_counts.most_common(10)"
   ]
  },
  {
   "cell_type": "code",
   "execution_count": 46,
   "metadata": {},
   "outputs": [],
   "source": [
    "# Create DataFrame for the top emojis\n",
    "biden_emoji_df = pd.DataFrame(biden_top_emojis, columns=['Emoji', 'Frequency'])\n",
    "trump_emoji_df = pd.DataFrame(trump_top_emojis, columns=['Emoji', 'Frequency'])"
   ]
  },
  {
   "cell_type": "code",
   "execution_count": 49,
   "metadata": {},
   "outputs": [],
   "source": [
    "# Create CSV for emoji analysis\n",
    "biden_emoji_df.to_csv('biden_emojis.csv')\n",
    "trump_emoji_df.to_csv('trump_emojis.csv')"
   ]
  },
  {
   "cell_type": "code",
   "execution_count": 51,
   "metadata": {},
   "outputs": [
    {
     "data": {
      "text/html": [
       "<div>\n",
       "<style scoped>\n",
       "    .dataframe tbody tr th:only-of-type {\n",
       "        vertical-align: middle;\n",
       "    }\n",
       "\n",
       "    .dataframe tbody tr th {\n",
       "        vertical-align: top;\n",
       "    }\n",
       "\n",
       "    .dataframe thead th {\n",
       "        text-align: right;\n",
       "    }\n",
       "</style>\n",
       "<table border=\"1\" class=\"dataframe\">\n",
       "  <thead>\n",
       "    <tr style=\"text-align: right;\">\n",
       "      <th></th>\n",
       "      <th>Emoji</th>\n",
       "      <th>Frequency</th>\n",
       "    </tr>\n",
       "  </thead>\n",
       "  <tbody>\n",
       "    <tr>\n",
       "      <th>0</th>\n",
       "      <td>💙</td>\n",
       "      <td>17506</td>\n",
       "    </tr>\n",
       "    <tr>\n",
       "      <th>1</th>\n",
       "      <td>😂</td>\n",
       "      <td>12943</td>\n",
       "    </tr>\n",
       "    <tr>\n",
       "      <th>2</th>\n",
       "      <td>🤣</td>\n",
       "      <td>8944</td>\n",
       "    </tr>\n",
       "    <tr>\n",
       "      <th>3</th>\n",
       "      <td>🌊</td>\n",
       "      <td>6947</td>\n",
       "    </tr>\n",
       "    <tr>\n",
       "      <th>4</th>\n",
       "      <td>👏</td>\n",
       "      <td>6741</td>\n",
       "    </tr>\n",
       "    <tr>\n",
       "      <th>5</th>\n",
       "      <td>❤</td>\n",
       "      <td>6107</td>\n",
       "    </tr>\n",
       "    <tr>\n",
       "      <th>6</th>\n",
       "      <td>🏻</td>\n",
       "      <td>4997</td>\n",
       "    </tr>\n",
       "    <tr>\n",
       "      <th>7</th>\n",
       "      <td>🙏</td>\n",
       "      <td>4813</td>\n",
       "    </tr>\n",
       "    <tr>\n",
       "      <th>8</th>\n",
       "      <td>👇</td>\n",
       "      <td>3912</td>\n",
       "    </tr>\n",
       "    <tr>\n",
       "      <th>9</th>\n",
       "      <td>🏼</td>\n",
       "      <td>3907</td>\n",
       "    </tr>\n",
       "  </tbody>\n",
       "</table>\n",
       "</div>"
      ],
      "text/plain": [
       "  Emoji  Frequency\n",
       "0     💙      17506\n",
       "1     😂      12943\n",
       "2     🤣       8944\n",
       "3     🌊       6947\n",
       "4     👏       6741\n",
       "5     ❤       6107\n",
       "6     🏻       4997\n",
       "7     🙏       4813\n",
       "8     👇       3912\n",
       "9     🏼       3907"
      ]
     },
     "execution_count": 51,
     "metadata": {},
     "output_type": "execute_result"
    }
   ],
   "source": [
    "biden_emoji_df"
   ]
  }
 ],
 "metadata": {
  "kernelspec": {
   "display_name": "base",
   "language": "python",
   "name": "python3"
  },
  "language_info": {
   "codemirror_mode": {
    "name": "ipython",
    "version": 3
   },
   "file_extension": ".py",
   "mimetype": "text/x-python",
   "name": "python",
   "nbconvert_exporter": "python",
   "pygments_lexer": "ipython3",
   "version": "3.12.4"
  }
 },
 "nbformat": 4,
 "nbformat_minor": 2
}
