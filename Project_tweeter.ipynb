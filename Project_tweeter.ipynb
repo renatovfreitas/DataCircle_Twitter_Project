{
 "cells": [
  {
   "cell_type": "code",
   "execution_count": 2,
   "metadata": {},
   "outputs": [],
   "source": [
    "import pandas as pd"
   ]
  },
  {
   "cell_type": "code",
   "execution_count": 3,
   "metadata": {},
   "outputs": [],
   "source": [
    "df_biden = pd.read_csv(r\"hashtag_joebiden.csv\", engine='python')\n"
   ]
  },
  {
   "cell_type": "code",
   "execution_count": 4,
   "metadata": {},
   "outputs": [],
   "source": [
    "\n",
    "# Load the Trump dataset\n",
    "df_trump = pd.read_csv(r\"hashtag_donaldtrump.csv\", engine='python')\n",
    "\n",
    "\n"
   ]
  },
  {
   "cell_type": "markdown",
   "metadata": {},
   "source": [
    "2. Explore the Data"
   ]
  },
  {
   "cell_type": "code",
   "execution_count": 5,
   "metadata": {},
   "outputs": [
    {
     "name": "stdout",
     "output_type": "stream",
     "text": [
      "            created_at                tweet_id  \\\n",
      "0  2020-10-15 00:00:01   1.316529221557252e+18   \n",
      "1  2020-10-15 00:00:18    1.31652929585929e+18   \n",
      "2  2020-10-15 00:00:20  1.3165293050069524e+18   \n",
      "3  2020-10-15 00:00:21  1.3165293080815575e+18   \n",
      "4  2020-10-15 00:00:22   1.316529312741253e+18   \n",
      "\n",
      "                                               tweet likes  retweet_count  \\\n",
      "0  #Elecciones2020 | En #Florida: #JoeBiden dice ...   0.0            0.0   \n",
      "1  #HunterBiden #HunterBidenEmails #JoeBiden #Joe...   0.0            0.0   \n",
      "2  @IslandGirlPRV @BradBeauregardJ @MeidasTouch T...   0.0            0.0   \n",
      "3  @chrislongview Watching and setting dvr. Let’s...   0.0            0.0   \n",
      "4  #censorship #HunterBiden #Biden #BidenEmails #...   1.0            0.0   \n",
      "\n",
      "               source                user_id           user_name  \\\n",
      "0           TweetDeck            360666534.0  El Sol Latino News   \n",
      "1    Twitter for iPad            809904438.0         Cheri A. 🇺🇸   \n",
      "2     Twitter Web App           3494182277.0          Flag Waver   \n",
      "3  Twitter for iPhone  8.242596012018524e+17       Michelle Ferg   \n",
      "4     Twitter Web App  1.032806955356545e+18      the Gold State   \n",
      "\n",
      "  user_screen_name                                   user_description  ...  \\\n",
      "0  elsollatinonews  🌐 Noticias de interés para latinos de la costa...  ...   \n",
      "1     Biloximeemaw  Locked and loaded Meemaw. Love God, my family ...  ...   \n",
      "2      Flag_Wavers                                                NaN  ...   \n",
      "3    MichelleFerg4                                                NaN  ...   \n",
      "4    theegoldstate  A Silicon Valley #independent #News #Media #St...  ...   \n",
      "\n",
      "  user_followers_count                 user_location         lat  \\\n",
      "0               1860.0  Philadelphia, PA / Miami, FL    25.77427   \n",
      "1               6628.0                           NaN         NaN   \n",
      "2               1536.0         Golden Valley Arizona  46.3040364   \n",
      "3                 27.0                           NaN         NaN   \n",
      "4                390.0               California, USA  36.7014631   \n",
      "\n",
      "                  long city                   country      continent  \\\n",
      "0            -80.19366  NaN  United States of America  North America   \n",
      "1                  NaN  NaN                       NaN            NaN   \n",
      "2  -109.17143119999999  NaN  United States of America  North America   \n",
      "3                  NaN  NaN                       NaN            NaN   \n",
      "4  -118.75599740000001  NaN  United States of America  North America   \n",
      "\n",
      "        state state_code                   collected_at  \n",
      "0     Florida         FL            2020-10-21 00:00:00  \n",
      "1         NaN        NaN  2020-10-21 00:00:00.517827283  \n",
      "2     Montana         MT  2020-10-21 00:00:01.035654566  \n",
      "3         NaN        NaN  2020-10-21 00:00:01.553481849  \n",
      "4  California         CA  2020-10-21 00:00:02.071309132  \n",
      "\n",
      "[5 rows x 21 columns]\n",
      "            created_at                tweet_id  \\\n",
      "0  2020-10-15 00:00:01   1.316529221557252e+18   \n",
      "1  2020-10-15 00:00:01  1.3165292227484303e+18   \n",
      "2  2020-10-15 00:00:02   1.316529228091847e+18   \n",
      "3  2020-10-15 00:00:02   1.316529227471237e+18   \n",
      "4  2020-10-15 00:00:08  1.3165292523014513e+18   \n",
      "\n",
      "                                               tweet likes  retweet_count  \\\n",
      "0  #Elecciones2020 | En #Florida: #JoeBiden dice ...   0.0            0.0   \n",
      "1  Usa 2020, Trump contro Facebook e Twitter: cop...  26.0            9.0   \n",
      "2  #Trump: As a student I used to hear for years,...   2.0            1.0   \n",
      "3  2 hours since last tweet from #Trump! Maybe he...   0.0            0.0   \n",
      "4  You get a tie! And you get a tie! #Trump ‘s ra...   4.0            3.0   \n",
      "\n",
      "               source               user_id              user_name  \\\n",
      "0           TweetDeck           360666534.0     El Sol Latino News   \n",
      "1    Social Mediaset            331617619.0                Tgcom24   \n",
      "2     Twitter Web App             8436472.0                 snarke   \n",
      "3       Trumpytweeter  8.28355589206057e+17          Trumpytweeter   \n",
      "4  Twitter for iPhone            47413798.0  Rana Abtar - رنا أبتر   \n",
      "\n",
      "  user_screen_name                                   user_description  ...  \\\n",
      "0  elsollatinonews  🌐 Noticias de interés para latinos de la costa...  ...   \n",
      "1  MediasetTgcom24  Profilo ufficiale di Tgcom24: tutte le notizie...  ...   \n",
      "2           snarke  Will mock for food! Freelance writer, blogger,...  ...   \n",
      "3    trumpytweeter  If he doesn't tweet for some time, should we b...  ...   \n",
      "4        Ranaabtar  Washington Correspondent, Lebanese-American ,c...  ...   \n",
      "\n",
      "  user_followers_count                 user_location         lat  \\\n",
      "0               1860.0  Philadelphia, PA / Miami, FL    25.77427   \n",
      "1            1067661.0                           NaN         NaN   \n",
      "2               1185.0                      Portland  45.5202471   \n",
      "3                 32.0                           NaN         NaN   \n",
      "4               5393.0                 Washington DC  38.8949924   \n",
      "\n",
      "           long        city                   country      continent  \\\n",
      "0     -80.19366         NaN  United States of America  North America   \n",
      "1           NaN         NaN                       NaN            NaN   \n",
      "2  -122.6741949    Portland  United States of America  North America   \n",
      "3           NaN         NaN                       NaN            NaN   \n",
      "4   -77.0365581  Washington  United States of America  North America   \n",
      "\n",
      "                  state state_code                   collected_at  \n",
      "0               Florida         FL            2020-10-21 00:00:00  \n",
      "1                   NaN        NaN  2020-10-21 00:00:00.373216530  \n",
      "2                Oregon         OR  2020-10-21 00:00:00.746433060  \n",
      "3                   NaN        NaN  2020-10-21 00:00:01.119649591  \n",
      "4  District of Columbia         DC  2020-10-21 00:00:01.492866121  \n",
      "\n",
      "[5 rows x 21 columns]\n",
      "Index(['created_at', 'tweet_id', 'tweet', 'likes', 'retweet_count', 'source',\n",
      "       'user_id', 'user_name', 'user_screen_name', 'user_description',\n",
      "       'user_join_date', 'user_followers_count', 'user_location', 'lat',\n",
      "       'long', 'city', 'country', 'continent', 'state', 'state_code',\n",
      "       'collected_at'],\n",
      "      dtype='object')\n",
      "Index(['created_at', 'tweet_id', 'tweet', 'likes', 'retweet_count', 'source',\n",
      "       'user_id', 'user_name', 'user_screen_name', 'user_description',\n",
      "       'user_join_date', 'user_followers_count', 'user_location', 'lat',\n",
      "       'long', 'city', 'country', 'continent', 'state', 'state_code',\n",
      "       'collected_at'],\n",
      "      dtype='object')\n"
     ]
    }
   ],
   "source": [
    "# Check the first few rows of each DataFrame\n",
    "print(df_biden.head())\n",
    "print(df_trump.head())\n",
    "\n",
    "# Check the columns\n",
    "print(df_biden.columns)\n",
    "print(df_trump.columns)\n",
    "\n"
   ]
  },
  {
   "cell_type": "code",
   "execution_count": 6,
   "metadata": {},
   "outputs": [
    {
     "name": "stdout",
     "output_type": "stream",
     "text": [
      "Index(['created_at', 'tweet_id', 'tweet', 'likes', 'retweet_count', 'source',\n",
      "       'user_id', 'user_name', 'user_screen_name', 'user_description',\n",
      "       'user_join_date', 'user_followers_count', 'user_location', 'lat',\n",
      "       'long', 'city', 'country', 'continent', 'state', 'state_code',\n",
      "       'collected_at'],\n",
      "      dtype='object')\n"
     ]
    }
   ],
   "source": [
    "print(df_biden.columns)"
   ]
  },
  {
   "cell_type": "code",
   "execution_count": 7,
   "metadata": {},
   "outputs": [
    {
     "name": "stdout",
     "output_type": "stream",
     "text": [
      "Index(['created_at', 'tweet_id', 'tweet', 'likes', 'retweet_count', 'source',\n",
      "       'user_id', 'user_name', 'user_screen_name', 'user_description',\n",
      "       'user_join_date', 'user_followers_count', 'user_location', 'lat',\n",
      "       'long', 'city', 'country', 'continent', 'state', 'state_code',\n",
      "       'collected_at'],\n",
      "      dtype='object')\n"
     ]
    }
   ],
   "source": [
    "print(df_trump.columns)"
   ]
  },
  {
   "cell_type": "code",
   "execution_count": 9,
   "metadata": {},
   "outputs": [
    {
     "name": "stdout",
     "output_type": "stream",
     "text": [
      "<class 'pandas.core.frame.DataFrame'>\n",
      "RangeIndex: 777073 entries, 0 to 777072\n",
      "Data columns (total 21 columns):\n",
      " #   Column                Non-Null Count   Dtype  \n",
      "---  ------                --------------   -----  \n",
      " 0   created_at            777073 non-null  object \n",
      " 1   tweet_id              776995 non-null  object \n",
      " 2   tweet                 776995 non-null  object \n",
      " 3   likes                 776914 non-null  object \n",
      " 4   retweet_count         776895 non-null  float64\n",
      " 5   source                776182 non-null  object \n",
      " 6   user_id               776889 non-null  object \n",
      " 7   user_name             776877 non-null  object \n",
      " 8   user_screen_name      776895 non-null  object \n",
      " 9   user_description      694885 non-null  object \n",
      " 10  user_join_date        776784 non-null  object \n",
      " 11  user_followers_count  776885 non-null  object \n",
      " 12  user_location         543066 non-null  object \n",
      " 13  lat                   355284 non-null  object \n",
      " 14  long                  355284 non-null  object \n",
      " 15  city                  186869 non-null  object \n",
      " 16  country               353770 non-null  object \n",
      " 17  continent             353788 non-null  object \n",
      " 18  state                 260191 non-null  object \n",
      " 19  state_code            244603 non-null  object \n",
      " 20  collected_at          776777 non-null  object \n",
      "dtypes: float64(1), object(20)\n",
      "memory usage: 124.5+ MB\n",
      "None\n",
      "<class 'pandas.core.frame.DataFrame'>\n",
      "RangeIndex: 971087 entries, 0 to 971086\n",
      "Data columns (total 21 columns):\n",
      " #   Column                Non-Null Count   Dtype  \n",
      "---  ------                --------------   -----  \n",
      " 0   created_at            971087 non-null  object \n",
      " 1   tweet_id              971073 non-null  object \n",
      " 2   tweet                 971073 non-null  object \n",
      " 3   likes                 971045 non-null  object \n",
      " 4   retweet_count         970933 non-null  float64\n",
      " 5   source                970057 non-null  object \n",
      " 6   user_id               970929 non-null  object \n",
      " 7   user_name             970917 non-null  object \n",
      " 8   user_screen_name      970933 non-null  object \n",
      " 9   user_description      869663 non-null  object \n",
      " 10  user_join_date        970779 non-null  object \n",
      " 11  user_followers_count  970917 non-null  object \n",
      " 12  user_location         675839 non-null  object \n",
      " 13  lat                   445702 non-null  object \n",
      " 14  long                  445705 non-null  object \n",
      " 15  city                  227180 non-null  object \n",
      " 16  country               442732 non-null  object \n",
      " 17  continent             442749 non-null  object \n",
      " 18  state                 320614 non-null  object \n",
      " 19  state_code            300414 non-null  object \n",
      " 20  collected_at          970765 non-null  object \n",
      "dtypes: float64(1), object(20)\n",
      "memory usage: 155.6+ MB\n",
      "None\n"
     ]
    }
   ],
   "source": [
    "# Check for data types and null values\n",
    "print(df_biden.info())\n",
    "print(df_trump.info())"
   ]
  },
  {
   "cell_type": "code",
   "execution_count": 19,
   "metadata": {},
   "outputs": [
    {
     "name": "stdout",
     "output_type": "stream",
     "text": [
      "<class 'pandas.core.frame.DataFrame'>\n",
      "RangeIndex: 971087 entries, 0 to 971086\n",
      "Data columns (total 21 columns):\n",
      " #   Column                Non-Null Count   Dtype  \n",
      "---  ------                --------------   -----  \n",
      " 0   created_at            971087 non-null  object \n",
      " 1   tweet_id              971073 non-null  object \n",
      " 2   tweet                 971073 non-null  object \n",
      " 3   likes                 971045 non-null  object \n",
      " 4   retweet_count         970933 non-null  float64\n",
      " 5   source                970057 non-null  object \n",
      " 6   user_id               970929 non-null  object \n",
      " 7   user_name             970917 non-null  object \n",
      " 8   user_screen_name      970933 non-null  object \n",
      " 9   user_description      869663 non-null  object \n",
      " 10  user_join_date        970779 non-null  object \n",
      " 11  user_followers_count  970917 non-null  object \n",
      " 12  user_location         675839 non-null  object \n",
      " 13  lat                   445702 non-null  object \n",
      " 14  long                  445705 non-null  object \n",
      " 15  city                  227180 non-null  object \n",
      " 16  country               442732 non-null  object \n",
      " 17  continent             442749 non-null  object \n",
      " 18  state                 320614 non-null  object \n",
      " 19  state_code            300414 non-null  object \n",
      " 20  collected_at          970765 non-null  object \n",
      "dtypes: float64(1), object(20)\n",
      "memory usage: 155.6+ MB\n",
      "None\n"
     ]
    }
   ],
   "source": [
    "print(df_trump.info())"
   ]
  },
  {
   "cell_type": "code",
   "execution_count": 10,
   "metadata": {},
   "outputs": [],
   "source": [
    "df_biden['candidate'] = 'Biden'\n",
    "df_trump['candidate'] = 'Trump'"
   ]
  },
  {
   "cell_type": "code",
   "execution_count": 24,
   "metadata": {},
   "outputs": [
    {
     "name": "stdout",
     "output_type": "stream",
     "text": [
      "Index(['created_at', 'tweet_id', 'tweet', 'likes', 'retweet_count', 'source',\n",
      "       'user_id', 'user_name', 'user_screen_name', 'user_description',\n",
      "       'user_join_date', 'user_followers_count', 'user_location', 'lat',\n",
      "       'long', 'city', 'country', 'continent', 'state', 'state_code',\n",
      "       'collected_at', 'candidate'],\n",
      "      dtype='object')\n"
     ]
    }
   ],
   "source": [
    "print(df_biden.columns)"
   ]
  },
  {
   "cell_type": "code",
   "execution_count": 11,
   "metadata": {},
   "outputs": [],
   "source": [
    "\n",
    "df_combined = pd.concat([df_biden, df_trump], ignore_index=True)"
   ]
  },
  {
   "cell_type": "code",
   "execution_count": 30,
   "metadata": {},
   "outputs": [
    {
     "name": "stdout",
     "output_type": "stream",
     "text": [
      "Index(['created_at', 'tweet_id', 'tweet', 'likes', 'retweet_count', 'source',\n",
      "       'user_id', 'user_name', 'user_screen_name', 'user_description',\n",
      "       'user_join_date', 'user_followers_count', 'user_location', 'lat',\n",
      "       'long', 'city', 'country', 'continent', 'state', 'state_code',\n",
      "       'collected_at', 'candidate'],\n",
      "      dtype='object')\n"
     ]
    }
   ],
   "source": [
    "print(df_combined.columns)"
   ]
  },
  {
   "cell_type": "code",
   "execution_count": 31,
   "metadata": {},
   "outputs": [
    {
     "name": "stdout",
     "output_type": "stream",
     "text": [
      "<class 'pandas.core.frame.DataFrame'>\n",
      "RangeIndex: 1748160 entries, 0 to 1748159\n",
      "Data columns (total 22 columns):\n",
      " #   Column                Dtype  \n",
      "---  ------                -----  \n",
      " 0   created_at            object \n",
      " 1   tweet_id              object \n",
      " 2   tweet                 object \n",
      " 3   likes                 object \n",
      " 4   retweet_count         float64\n",
      " 5   source                object \n",
      " 6   user_id               object \n",
      " 7   user_name             object \n",
      " 8   user_screen_name      object \n",
      " 9   user_description      object \n",
      " 10  user_join_date        object \n",
      " 11  user_followers_count  object \n",
      " 12  user_location         object \n",
      " 13  lat                   object \n",
      " 14  long                  object \n",
      " 15  city                  object \n",
      " 16  country               object \n",
      " 17  continent             object \n",
      " 18  state                 object \n",
      " 19  state_code            object \n",
      " 20  collected_at          object \n",
      " 21  candidate             object \n",
      "dtypes: float64(1), object(21)\n",
      "memory usage: 293.4+ MB\n",
      "None\n"
     ]
    }
   ],
   "source": [
    "print(df_combined.info())"
   ]
  },
  {
   "cell_type": "code",
   "execution_count": null,
   "metadata": {},
   "outputs": [],
   "source": [
    "print(df_trump.info())"
   ]
  },
  {
   "cell_type": "markdown",
   "metadata": {},
   "source": [
    "Ensure Data Consistency\n",
    "\n",
    "    Standardizing date/time formats\n",
    "    Ensuring consistent text formatting (e.g., lowercasing)\n",
    "    Cleaning up usernames and hashtags (removing extra spaces or symbols)"
   ]
  },
  {
   "cell_type": "markdown",
   "metadata": {},
   "source": [
    "1. Standardize Date/Time (created_at)\n",
    "This ensures that all dates are in a consistent format.\n"
   ]
  },
  {
   "cell_type": "code",
   "execution_count": 32,
   "metadata": {},
   "outputs": [],
   "source": [
    "\n",
    "df_combined['created_at'] = pd.to_datetime(df_combined['created_at'], errors='coerce')"
   ]
  },
  {
   "cell_type": "markdown",
   "metadata": {},
   "source": [
    "# Convert 'likes', 'user_followers_count', 'lat', 'long' to numeric types"
   ]
  },
  {
   "cell_type": "code",
   "execution_count": 33,
   "metadata": {},
   "outputs": [],
   "source": [
    "# Convert 'likes', 'user_followers_count', 'lat', 'long' to numeric types\n",
    "df_combined['likes'] = pd.to_numeric(df_combined['likes'], errors='coerce')\n",
    "df_combined['user_followers_count'] = pd.to_numeric(df_combined['user_followers_count'], errors='coerce')\n",
    "df_combined['lat'] = pd.to_numeric(df_combined['lat'], errors='coerce')\n",
    "df_combined['long'] = pd.to_numeric(df_combined['long'], errors='coerce')"
   ]
  },
  {
   "cell_type": "code",
   "execution_count": 34,
   "metadata": {},
   "outputs": [
    {
     "name": "stdout",
     "output_type": "stream",
     "text": [
      "likes                      365\n",
      "user_followers_count       611\n",
      "lat                     947178\n",
      "long                    947178\n",
      "dtype: int64\n"
     ]
    }
   ],
   "source": [
    "# Check for any null values after conversion\n",
    "print(df_combined[['likes', 'user_followers_count', 'lat', 'long']].isnull().sum())"
   ]
  },
  {
   "cell_type": "markdown",
   "metadata": {},
   "source": [
    "# Standardize categorical columns\n",
    "Text columns like tweet, user_name, user_screen_name, etc., are converted to lowercase and trimmed of any extra spaces."
   ]
  },
  {
   "cell_type": "code",
   "execution_count": 35,
   "metadata": {},
   "outputs": [],
   "source": [
    "# Standardize categorical columns\n",
    "df_combined['source'] = df_combined['source'].str.lower().str.strip()\n",
    "df_combined['city'] = df_combined['city'].str.lower().str.strip()\n",
    "df_combined['country'] = df_combined['country'].str.lower().str.strip()\n",
    "df_combined['state'] = df_combined['state'].str.lower().str.strip()\n",
    "df_combined['state_code'] = df_combined['state_code'].str.upper().str.strip()"
   ]
  },
  {
   "cell_type": "code",
   "execution_count": 1,
   "metadata": {},
   "outputs": [
    {
     "ename": "NameError",
     "evalue": "name 'df_combined' is not defined",
     "output_type": "error",
     "traceback": [
      "\u001b[1;31m---------------------------------------------------------------------------\u001b[0m",
      "\u001b[1;31mNameError\u001b[0m                                 Traceback (most recent call last)",
      "Cell \u001b[1;32mIn[1], line 3\u001b[0m\n\u001b[0;32m      1\u001b[0m text_columns \u001b[38;5;241m=\u001b[39m [\u001b[38;5;124m'\u001b[39m\u001b[38;5;124mtweet\u001b[39m\u001b[38;5;124m'\u001b[39m, \u001b[38;5;124m'\u001b[39m\u001b[38;5;124muser_name\u001b[39m\u001b[38;5;124m'\u001b[39m, \u001b[38;5;124m'\u001b[39m\u001b[38;5;124muser_screen_name\u001b[39m\u001b[38;5;124m'\u001b[39m, \u001b[38;5;124m'\u001b[39m\u001b[38;5;124muser_description\u001b[39m\u001b[38;5;124m'\u001b[39m, \u001b[38;5;124m'\u001b[39m\u001b[38;5;124muser_location\u001b[39m\u001b[38;5;124m'\u001b[39m, \u001b[38;5;124m'\u001b[39m\u001b[38;5;124msource\u001b[39m\u001b[38;5;124m'\u001b[39m]\n\u001b[0;32m      2\u001b[0m \u001b[38;5;28;01mfor\u001b[39;00m col \u001b[38;5;129;01min\u001b[39;00m text_columns:\n\u001b[1;32m----> 3\u001b[0m     df_combined[col] \u001b[38;5;241m=\u001b[39m \u001b[43mdf_combined\u001b[49m[col]\u001b[38;5;241m.\u001b[39mstr\u001b[38;5;241m.\u001b[39mlower()\u001b[38;5;241m.\u001b[39mstr\u001b[38;5;241m.\u001b[39mstrip()\n",
      "\u001b[1;31mNameError\u001b[0m: name 'df_combined' is not defined"
     ]
    }
   ],
   "source": [
    "text_columns = ['tweet', 'user_name', 'user_screen_name', 'user_description', 'user_location', 'source']\n",
    "for col in text_columns:\n",
    "    df_combined[col] = df_combined[col].str.lower().str.strip()"
   ]
  }
 ],
 "metadata": {
  "kernelspec": {
   "display_name": "base",
   "language": "python",
   "name": "python3"
  },
  "language_info": {
   "codemirror_mode": {
    "name": "ipython",
    "version": 3
   },
   "file_extension": ".py",
   "mimetype": "text/x-python",
   "name": "python",
   "nbconvert_exporter": "python",
   "pygments_lexer": "ipython3",
   "version": "3.9.7"
  }
 },
 "nbformat": 4,
 "nbformat_minor": 2
}
